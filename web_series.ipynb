{
  "nbformat": 4,
  "nbformat_minor": 0,
  "metadata": {
    "colab": {
      "provenance": [],
      "authorship_tag": "ABX9TyP/7k4F3JkU5/FgzUIOnAUS",
      "include_colab_link": true
    },
    "kernelspec": {
      "name": "python3",
      "display_name": "Python 3"
    },
    "language_info": {
      "name": "python"
    }
  },
  "cells": [
    {
      "cell_type": "markdown",
      "metadata": {
        "id": "view-in-github",
        "colab_type": "text"
      },
      "source": [
        "<a href=\"https://colab.research.google.com/github/Poushali-02/notebooks/blob/main/web_series.ipynb\" target=\"_parent\"><img src=\"https://colab.research.google.com/assets/colab-badge.svg\" alt=\"Open In Colab\"/></a>"
      ]
    },
    {
      "cell_type": "markdown",
      "source": [
        "# Get data"
      ],
      "metadata": {
        "id": "vZeDpRUO14iN"
      }
    },
    {
      "cell_type": "code",
      "source": [
        "import pandas as pd\n",
        "import numpy as numpy\n",
        "data = pd.read_csv(\"All_Streaming_Shows.csv\")\n",
        "backupData = pd.read_csv(\"All_Streaming_Shows.csv\")\n",
        "backupData.to_csv(\"Backup-Web-Series.csv\", index = False)"
      ],
      "metadata": {
        "id": "K6paVqEO161b"
      },
      "execution_count": null,
      "outputs": []
    },
    {
      "cell_type": "code",
      "source": [
        "series = data[['Series Title', 'Content Rating','IMDB Rating', 'Genre','Description','No of Seasons','Streaming Platform']]"
      ],
      "metadata": {
        "id": "7FeLlumy2UMz"
      },
      "execution_count": null,
      "outputs": []
    },
    {
      "cell_type": "code",
      "source": [
        "series.sample(1)"
      ],
      "metadata": {
        "colab": {
          "base_uri": "https://localhost:8080/",
          "height": 115
        },
        "id": "ZWYUoToh2MHW",
        "outputId": "366f5c79-9af3-437c-c4b6-dfe354d90900"
      },
      "execution_count": null,
      "outputs": [
        {
          "output_type": "execute_result",
          "data": {
            "text/plain": [
              "     Series Title Content Rating  IMDB Rating                  Genre  \\\n",
              "588  Quantum Leap            16+          8.1  Drama,Science-Fiction   \n",
              "\n",
              "                                           Description No of Seasons  \\\n",
              "588  Theorizing that one could time travel within h...     5 Seasons   \n",
              "\n",
              "     Streaming Platform  \n",
              "588  Free Services,Hulu  "
            ],
            "text/html": [
              "\n",
              "  <div id=\"df-1e5db29d-569f-43d1-9f20-25d5a4c21927\" class=\"colab-df-container\">\n",
              "    <div>\n",
              "<style scoped>\n",
              "    .dataframe tbody tr th:only-of-type {\n",
              "        vertical-align: middle;\n",
              "    }\n",
              "\n",
              "    .dataframe tbody tr th {\n",
              "        vertical-align: top;\n",
              "    }\n",
              "\n",
              "    .dataframe thead th {\n",
              "        text-align: right;\n",
              "    }\n",
              "</style>\n",
              "<table border=\"1\" class=\"dataframe\">\n",
              "  <thead>\n",
              "    <tr style=\"text-align: right;\">\n",
              "      <th></th>\n",
              "      <th>Series Title</th>\n",
              "      <th>Content Rating</th>\n",
              "      <th>IMDB Rating</th>\n",
              "      <th>Genre</th>\n",
              "      <th>Description</th>\n",
              "      <th>No of Seasons</th>\n",
              "      <th>Streaming Platform</th>\n",
              "    </tr>\n",
              "  </thead>\n",
              "  <tbody>\n",
              "    <tr>\n",
              "      <th>588</th>\n",
              "      <td>Quantum Leap</td>\n",
              "      <td>16+</td>\n",
              "      <td>8.1</td>\n",
              "      <td>Drama,Science-Fiction</td>\n",
              "      <td>Theorizing that one could time travel within h...</td>\n",
              "      <td>5 Seasons</td>\n",
              "      <td>Free Services,Hulu</td>\n",
              "    </tr>\n",
              "  </tbody>\n",
              "</table>\n",
              "</div>\n",
              "    <div class=\"colab-df-buttons\">\n",
              "\n",
              "  <div class=\"colab-df-container\">\n",
              "    <button class=\"colab-df-convert\" onclick=\"convertToInteractive('df-1e5db29d-569f-43d1-9f20-25d5a4c21927')\"\n",
              "            title=\"Convert this dataframe to an interactive table.\"\n",
              "            style=\"display:none;\">\n",
              "\n",
              "  <svg xmlns=\"http://www.w3.org/2000/svg\" height=\"24px\" viewBox=\"0 -960 960 960\">\n",
              "    <path d=\"M120-120v-720h720v720H120Zm60-500h600v-160H180v160Zm220 220h160v-160H400v160Zm0 220h160v-160H400v160ZM180-400h160v-160H180v160Zm440 0h160v-160H620v160ZM180-180h160v-160H180v160Zm440 0h160v-160H620v160Z\"/>\n",
              "  </svg>\n",
              "    </button>\n",
              "\n",
              "  <style>\n",
              "    .colab-df-container {\n",
              "      display:flex;\n",
              "      gap: 12px;\n",
              "    }\n",
              "\n",
              "    .colab-df-convert {\n",
              "      background-color: #E8F0FE;\n",
              "      border: none;\n",
              "      border-radius: 50%;\n",
              "      cursor: pointer;\n",
              "      display: none;\n",
              "      fill: #1967D2;\n",
              "      height: 32px;\n",
              "      padding: 0 0 0 0;\n",
              "      width: 32px;\n",
              "    }\n",
              "\n",
              "    .colab-df-convert:hover {\n",
              "      background-color: #E2EBFA;\n",
              "      box-shadow: 0px 1px 2px rgba(60, 64, 67, 0.3), 0px 1px 3px 1px rgba(60, 64, 67, 0.15);\n",
              "      fill: #174EA6;\n",
              "    }\n",
              "\n",
              "    .colab-df-buttons div {\n",
              "      margin-bottom: 4px;\n",
              "    }\n",
              "\n",
              "    [theme=dark] .colab-df-convert {\n",
              "      background-color: #3B4455;\n",
              "      fill: #D2E3FC;\n",
              "    }\n",
              "\n",
              "    [theme=dark] .colab-df-convert:hover {\n",
              "      background-color: #434B5C;\n",
              "      box-shadow: 0px 1px 3px 1px rgba(0, 0, 0, 0.15);\n",
              "      filter: drop-shadow(0px 1px 2px rgba(0, 0, 0, 0.3));\n",
              "      fill: #FFFFFF;\n",
              "    }\n",
              "  </style>\n",
              "\n",
              "    <script>\n",
              "      const buttonEl =\n",
              "        document.querySelector('#df-1e5db29d-569f-43d1-9f20-25d5a4c21927 button.colab-df-convert');\n",
              "      buttonEl.style.display =\n",
              "        google.colab.kernel.accessAllowed ? 'block' : 'none';\n",
              "\n",
              "      async function convertToInteractive(key) {\n",
              "        const element = document.querySelector('#df-1e5db29d-569f-43d1-9f20-25d5a4c21927');\n",
              "        const dataTable =\n",
              "          await google.colab.kernel.invokeFunction('convertToInteractive',\n",
              "                                                    [key], {});\n",
              "        if (!dataTable) return;\n",
              "\n",
              "        const docLinkHtml = 'Like what you see? Visit the ' +\n",
              "          '<a target=\"_blank\" href=https://colab.research.google.com/notebooks/data_table.ipynb>data table notebook</a>'\n",
              "          + ' to learn more about interactive tables.';\n",
              "        element.innerHTML = '';\n",
              "        dataTable['output_type'] = 'display_data';\n",
              "        await google.colab.output.renderOutput(dataTable, element);\n",
              "        const docLink = document.createElement('div');\n",
              "        docLink.innerHTML = docLinkHtml;\n",
              "        element.appendChild(docLink);\n",
              "      }\n",
              "    </script>\n",
              "  </div>\n",
              "\n",
              "\n",
              "    </div>\n",
              "  </div>\n"
            ],
            "application/vnd.google.colaboratory.intrinsic+json": {
              "type": "dataframe",
              "summary": "{\n  \"name\": \"series\",\n  \"rows\": 1,\n  \"fields\": [\n    {\n      \"column\": \"Series Title\",\n      \"properties\": {\n        \"dtype\": \"string\",\n        \"num_unique_values\": 1,\n        \"samples\": [\n          \"Quantum Leap\"\n        ],\n        \"semantic_type\": \"\",\n        \"description\": \"\"\n      }\n    },\n    {\n      \"column\": \"Content Rating\",\n      \"properties\": {\n        \"dtype\": \"string\",\n        \"num_unique_values\": 1,\n        \"samples\": [\n          \"16+\"\n        ],\n        \"semantic_type\": \"\",\n        \"description\": \"\"\n      }\n    },\n    {\n      \"column\": \"IMDB Rating\",\n      \"properties\": {\n        \"dtype\": \"number\",\n        \"std\": null,\n        \"min\": 8.1,\n        \"max\": 8.1,\n        \"num_unique_values\": 1,\n        \"samples\": [\n          8.1\n        ],\n        \"semantic_type\": \"\",\n        \"description\": \"\"\n      }\n    },\n    {\n      \"column\": \"Genre\",\n      \"properties\": {\n        \"dtype\": \"string\",\n        \"num_unique_values\": 1,\n        \"samples\": [\n          \"Drama,Science-Fiction\"\n        ],\n        \"semantic_type\": \"\",\n        \"description\": \"\"\n      }\n    },\n    {\n      \"column\": \"Description\",\n      \"properties\": {\n        \"dtype\": \"string\",\n        \"num_unique_values\": 1,\n        \"samples\": [\n          \"Theorizing that one could time travel within his own lifetime, Dr. Sam Beckett stepped into the Quantum Leap accelerator and vanished... He woke to find himself trapped in the past, facing mirror images that were not his own and driven by an unknown force to change history for the better. His only guide on this journey is Al, an observer from his own time, who appears in the form of a hologram that only Sam can see and hear. And so Dr. Beckett finds himself leaping from life to life, striving to put right what once went wrong and hoping each time that his next leap will be the leap home.Quantum Leap featuring Scott Bakula and Dean Stockwell has one or more episodes streaming with subscription on Hulu, free on NBC, available for purchase on iTunes, and 5 others. It's an action & adventure and comedy show with 97 episodes over 5 seasons. Quantum Leap is no longer running and has no plans to air new episodes or seasons. It has a high IMDb audience rating of 8.1 (25,556 votes).\"\n        ],\n        \"semantic_type\": \"\",\n        \"description\": \"\"\n      }\n    },\n    {\n      \"column\": \"No of Seasons\",\n      \"properties\": {\n        \"dtype\": \"string\",\n        \"num_unique_values\": 1,\n        \"samples\": [\n          \"5 Seasons\"\n        ],\n        \"semantic_type\": \"\",\n        \"description\": \"\"\n      }\n    },\n    {\n      \"column\": \"Streaming Platform\",\n      \"properties\": {\n        \"dtype\": \"string\",\n        \"num_unique_values\": 1,\n        \"samples\": [\n          \"Free Services,Hulu\"\n        ],\n        \"semantic_type\": \"\",\n        \"description\": \"\"\n      }\n    }\n  ]\n}"
            }
          },
          "metadata": {},
          "execution_count": 3
        }
      ]
    },
    {
      "cell_type": "markdown",
      "source": [
        "# Remove null values"
      ],
      "metadata": {
        "id": "IHUz6fhaFMMS"
      }
    },
    {
      "cell_type": "code",
      "source": [
        "# handle missing values\n",
        "series.isnull().sum()"
      ],
      "metadata": {
        "colab": {
          "base_uri": "https://localhost:8080/",
          "height": 304
        },
        "id": "vK5I-DY7FNWK",
        "outputId": "9e6d7a76-ed7d-4132-dc7b-95947d301318"
      },
      "execution_count": null,
      "outputs": [
        {
          "output_type": "execute_result",
          "data": {
            "text/plain": [
              "Series Title          0\n",
              "Content Rating        0\n",
              "IMDB Rating           0\n",
              "Genre                 0\n",
              "Description           0\n",
              "No of Seasons         0\n",
              "Streaming Platform    0\n",
              "dtype: int64"
            ],
            "text/html": [
              "<div>\n",
              "<style scoped>\n",
              "    .dataframe tbody tr th:only-of-type {\n",
              "        vertical-align: middle;\n",
              "    }\n",
              "\n",
              "    .dataframe tbody tr th {\n",
              "        vertical-align: top;\n",
              "    }\n",
              "\n",
              "    .dataframe thead th {\n",
              "        text-align: right;\n",
              "    }\n",
              "</style>\n",
              "<table border=\"1\" class=\"dataframe\">\n",
              "  <thead>\n",
              "    <tr style=\"text-align: right;\">\n",
              "      <th></th>\n",
              "      <th>0</th>\n",
              "    </tr>\n",
              "  </thead>\n",
              "  <tbody>\n",
              "    <tr>\n",
              "      <th>Series Title</th>\n",
              "      <td>0</td>\n",
              "    </tr>\n",
              "    <tr>\n",
              "      <th>Content Rating</th>\n",
              "      <td>0</td>\n",
              "    </tr>\n",
              "    <tr>\n",
              "      <th>IMDB Rating</th>\n",
              "      <td>0</td>\n",
              "    </tr>\n",
              "    <tr>\n",
              "      <th>Genre</th>\n",
              "      <td>0</td>\n",
              "    </tr>\n",
              "    <tr>\n",
              "      <th>Description</th>\n",
              "      <td>0</td>\n",
              "    </tr>\n",
              "    <tr>\n",
              "      <th>No of Seasons</th>\n",
              "      <td>0</td>\n",
              "    </tr>\n",
              "    <tr>\n",
              "      <th>Streaming Platform</th>\n",
              "      <td>0</td>\n",
              "    </tr>\n",
              "  </tbody>\n",
              "</table>\n",
              "</div><br><label><b>dtype:</b> int64</label>"
            ]
          },
          "metadata": {},
          "execution_count": 8
        }
      ]
    },
    {
      "cell_type": "code",
      "source": [
        "mode_value = series['Content Rating'].mode()\n",
        "if not mode_value.empty:\n",
        "    most_frequent_value = mode_value[0]\n",
        "    series.loc[:,'Content Rating'] = series.loc[:,'Content Rating'].fillna(most_frequent_value)\n",
        "else:\n",
        "    series.loc[:,'Content Rating'] = series.loc[:,'Content Rating'].fillna('Unknown')\n"
      ],
      "metadata": {
        "id": "lttHH2iFFQdi"
      },
      "execution_count": null,
      "outputs": []
    },
    {
      "cell_type": "code",
      "source": [
        "series['Streaming Platform'].unique()"
      ],
      "metadata": {
        "colab": {
          "base_uri": "https://localhost:8080/"
        },
        "id": "D500YtLuQCZ2",
        "outputId": "530c1d31-b5f9-4cba-b5db-739860616a6d"
      },
      "execution_count": null,
      "outputs": [
        {
          "output_type": "execute_result",
          "data": {
            "text/plain": [
              "array(['Netflix', 'HBO MAX,HBO', 'Free Services,HBO MAX,Hulu',\n",
              "       'Prime Video', 'Hulu', 'Netflix,CBS All Access,Hoopla',\n",
              "       'HBO MAX,Hulu,TBS', 'Netflix,Comedy Central,fuboTV',\n",
              "       'Free Services,Netflix,TNT', 'Free Services,Netflix,Hulu',\n",
              "       'Free Services,Prime Video,NBC', 'Prime Video,USA,fuboTV',\n",
              "       'Free Services,Netflix,YouTube Premium', 'Free Services,Hulu,FX',\n",
              "       'Disney+', 'Prime Video,Hulu', 'Netflix,AMC,fuboTV',\n",
              "       'Free Services,Hulu', 'Free Services,Hulu,TBS',\n",
              "       'Free Services,Netflix,Showtime',\n",
              "       'Free Services,Netflix,Prime Video', 'Free Services,Netflix',\n",
              "       'Free Services', 'Netflix,Showtime,fuboTV',\n",
              "       'Free Services,Hulu,ABC', 'Free Services,Prime Video',\n",
              "       'Hulu,FX,Viceland', 'Netflix,Showtime,Hulu', 'Hulu,TBS,fuboTV',\n",
              "       'Free Services,Netflix,HBO MAX',\n",
              "       'Free Services,Prime Video,BritBox',\n",
              "       'Free Services,Showtime,fuboTV', 'Free Services,Netflix,fuboTV',\n",
              "       'Free Services,Hulu,Crunchyroll', 'Netflix,Starz',\n",
              "       'Hulu,Syfy,Comedy Central', 'Free Services,Netflix,CBS All Access',\n",
              "       'Hulu,FX,fuboTV', 'Free Services,Hulu,Disney+', 'Netflix,Hulu',\n",
              "       'Hulu,BBC America', 'Free Services,fuboTV,Peacock Premium',\n",
              "       'Free Services,Hulu,BBC America', 'Free Services,Hulu,NBC',\n",
              "       'HBO MAX,Prime Video,Starz', 'Prime Video,BBC America',\n",
              "       'DC Universe', 'HBO MAX,HBO,Prime Video', 'Hulu,Comedy Central',\n",
              "       'Netflix,Prime Video,Hulu', 'HBO MAX,Hulu,BritBox', 'BBC America',\n",
              "       'Apple TV+', 'Netflix,Hulu,CBS All Access', 'Netflix,TBS',\n",
              "       'Hulu,AcornTV,AMC', 'Free Services,Hulu,Starz', 'HBO MAX',\n",
              "       'Hulu,FX,FOX', 'HBO MAX,DC Universe',\n",
              "       'Free Services,Prime Video,Hulu', 'Netflix,USA,fuboTV',\n",
              "       'Free Services,CBS All Access,Comedy Central',\n",
              "       'Free Services,Hulu,Adult Swim', 'Prime Video,CBS All Access',\n",
              "       'HBO MAX,BBC America', nan, 'Netflix,FOX', 'Prime Video,Hulu,TNT',\n",
              "       'Free Services,Hulu,CBS All Access', 'Hulu,Funimation',\n",
              "       'Prime Video,Hulu,AcornTV', 'Cinemax', 'Starz',\n",
              "       'HBO MAX,TNT,Hoopla', 'Free Services,Starz',\n",
              "       'Free Services,Hulu,Funimation',\n",
              "       'Free Services,Prime Video,Showtime', 'BritBox',\n",
              "       'Free Services,HBO MAX', 'Free Services,Prime Video,fuboTV',\n",
              "       'Netflix,Showtime', 'Netflix,Syfy,fuboTV', 'Netflix,Hoopla',\n",
              "       'Funimation', 'Prime Video,Hoopla', 'Free Services,Disney+,fuboTV',\n",
              "       'Free Services,fuboTV', 'Free Services,Hulu,Comedy Central',\n",
              "       'Netflix,fuboTV', 'HBO MAX,Prime Video,BritBox',\n",
              "       'Free Services,Prime Video,AcornTV', 'Free Services,Hulu,FOX',\n",
              "       'Free Services,Hoopla', 'Netflix,Comedy Central', 'Netflix,TNT',\n",
              "       'Prime Video,BritBox', 'CBS All Access',\n",
              "       'Free Services,YouTube Premium',\n",
              "       'Free Services,HBO MAX,Adult Swim', 'Hulu,TNT,Hoopla',\n",
              "       'Free Services,Hulu,fuboTV', 'Hulu,FOX', 'Netflix,AcornTV',\n",
              "       'Free Services,Netflix,Hoopla', 'Prime Video,Hulu,MTV',\n",
              "       'Prime Video,Starz', 'Free Services,DC Universe',\n",
              "       'Netflix,Prime Video', 'Free Services,HBO MAX,fuboTV',\n",
              "       'Free Services,Hulu,TVLand', 'HBO MAX,Prime Video,BBC America',\n",
              "       'Netflix,USA', 'Hulu,fuboTV', 'Prime Video,CBS All Access,Nick',\n",
              "       'IFC,TVLand,fuboTV', 'Hulu,Disney+', 'Hulu,Hoopla',\n",
              "       'Prime Video,Showtime,fuboTV', 'Netflix,Hulu,Funimation',\n",
              "       'Free Services,HBO', 'Netflix,Prime Video,fuboTV',\n",
              "       'TBS,Adult Swim', 'AcornTV', 'Hoopla',\n",
              "       'Free Services,Peacock Premium', 'Free Services,AMC Premiere',\n",
              "       'Free Services,HBO MAX,Prime Video', 'Prime Video,TNT',\n",
              "       'Free Services,Syfy,fuboTV', 'Free Services,Adult Swim',\n",
              "       'Hulu,TVLand', 'Hulu,AcornTV,BritBox', 'Hulu,BritBox,Hoopla',\n",
              "       'HBO MAX,BritBox', 'Netflix,IFC,fuboTV',\n",
              "       'Free Services,CBS All Access', 'AcornTV,BritBox,Hoopla',\n",
              "       'BritBox,Hoopla', 'AcornTV,Hoopla', 'TBS,Peacock Premium',\n",
              "       'Hulu,IFC,AMC', 'HBO MAX,Hulu,Cartoon Network',\n",
              "       'Netflix,Funimation', 'Free Services,Adult Swim,fuboTV',\n",
              "       'Free Services,Prime Video,CBS All Access', 'Prime Video,Cinemax',\n",
              "       'Showtime,fuboTV', 'Free Services,AcornTV,BritBox',\n",
              "       'Free Services,HBO MAX,CBS All Access', 'Epix',\n",
              "       'Free Services,HBO MAX,Crunchyroll', 'Hulu,Science',\n",
              "       'Free Services,AcornTV', 'HBO MAX,Hoopla',\n",
              "       'Free Services,Netflix,Funimation', 'HBO MAX,Hulu,Hoopla',\n",
              "       'Free Services,Funimation', 'Prime Video,Hulu,CBS All Access',\n",
              "       'Free Services,Comedy Central', 'Free Services,Hulu,History',\n",
              "       'Prime Video,Hulu,BritBox', 'Hulu,FOX,Hoopla',\n",
              "       'Free Services,Starz,Hoopla', 'Shudder,AMC Premiere',\n",
              "       'Hulu,CBS All Access,VH1', 'Free Services,Comedy Central,fuboTV',\n",
              "       'Sundance,TNT,fuboTV', 'Hulu,BBC America,AMC', 'BET',\n",
              "       'Free Services,Hulu,Hoopla', 'Free Services,Nick,Hoopla',\n",
              "       'Free Services,HBO MAX,HBO', 'HBO MAX,Hulu',\n",
              "       'Free Services,CBS All Access,USA',\n",
              "       'Netflix,Prime Video,CBS All Access', 'Hulu,Viceland',\n",
              "       'Free Services,Hulu,AcornTV', 'TVLand,Peacock Premium',\n",
              "       'Free Services,Prime Video,Starz', 'Prime Video,Epix',\n",
              "       'Free Services,Netflix,BritBox', 'TNT',\n",
              "       'Free Services,Netflix,NatGeo', 'Hulu,TBS', 'Hulu,Nick',\n",
              "       'Free Services,Disney+', 'HBO MAX,TBS', 'Shudder,fuboTV',\n",
              "       'Free Services,NBC', 'Starz,Hoopla', 'AMC Premiere',\n",
              "       'Free Services,Hulu,NatGeo', 'Netflix,TruTV,Hoopla',\n",
              "       'Sundance,fuboTV', 'Free Services,NatGeo',\n",
              "       'Free Services,Hulu,MTV', 'Free Services,CBS All Access,fuboTV',\n",
              "       'Free Services,Hulu,Syfy', 'HBO MAX,Hulu,TruTV',\n",
              "       'Hulu,Nick,Hoopla', 'CBS All Access,fuboTV,Hoopla', 'fuboTV',\n",
              "       'AMC,AMC Premiere', 'Hulu,History', 'CBS All Access,Nick,fuboTV',\n",
              "       'Shudder', 'Free Services,Prime Video,Sundance',\n",
              "       'Hulu,CBS All Access,fuboTV', 'Hulu,AcornTV,Hoopla', 'TBS',\n",
              "       'Syfy,fuboTV', 'Free Services,Hulu,USA', 'Hulu,TBS,Hoopla',\n",
              "       'Netflix,Hallmark', 'Free Services,CBS All Access,MTV',\n",
              "       'Free Services,Hulu,Travel Channel', 'Hulu,FOX,NatGeo',\n",
              "       'fuboTV,Hoopla', 'Hulu,CBS All Access',\n",
              "       'Hulu,Adult Swim,Funimation', 'BET+', 'Hulu,FX',\n",
              "       'Free Services,Prime Video,Viceland', 'Hulu,A&E',\n",
              "       'Prime Video,BritBox,Hoopla', 'Netflix,Epix', 'Hulu,BritBox',\n",
              "       'Science', 'Hulu,TNT', 'Prime Video,Hulu,Hoopla',\n",
              "       'HBO MAX,TruTV,fuboTV', 'CBS All Access,BET,BET+',\n",
              "       'Prime Video,AcornTV,Hoopla', 'Hulu,Travel Channel,Food Network',\n",
              "       'Free Services,Disney+,Disney',\n",
              "       'Free Services,HBO MAX,Comedy Central', 'Netflix,Lifetime,Hoopla',\n",
              "       'Free Services,HBO MAX,Cartoon Network', 'Free Services,MTV',\n",
              "       'AMC,fuboTV,AMC Premiere', 'Hallmark,Hallmark Movies Now',\n",
              "       'Free Services,Crunchyroll', 'Prime Video,Hulu,Science',\n",
              "       'Hulu,Bravo,fuboTV', 'Netflix,History,Hoopla', 'IFC',\n",
              "       'Netflix,Hulu,Hoopla', 'Free Services,FOX', 'FOX',\n",
              "       'Hulu,AMC Premiere', 'Nick', 'Free Services,Netflix,TBS',\n",
              "       'Free Services,CBS All Access,TNT', 'Netflix,Hulu,fuboTV',\n",
              "       'Netflix,HBO MAX,TruTV', 'Free Services,Hulu,A&E',\n",
              "       'Free Services,Bravo,fuboTV', 'Syfy', 'Hulu,fuboTV,BET+',\n",
              "       'USA,fuboTV', 'Peacock Premium', 'Netflix,Hulu,History', 'HBO',\n",
              "       'HBO MAX,HBO,Hoopla', 'Free Services,Crunchyroll,Funimation',\n",
              "       'Epix,AMC,fuboTV', 'Free Services,VH1', 'Free Services,Hulu,Bravo',\n",
              "       'Free Services,Food Network', 'Hulu,Disney+,fuboTV',\n",
              "       'Free Services,CBS All Access,TVLand',\n",
              "       'Free Services,Prime Video,Hoopla', 'BBC America,fuboTV',\n",
              "       'Free Services,MTV,VH1', 'FX', 'Prime Video,Hulu,BBC America',\n",
              "       'Hulu,Science,fuboTV', 'Free Services,BritBox',\n",
              "       'Free Services,A&E,fuboTV', 'CBS All Access,Comedy Central,fuboTV',\n",
              "       'Free Services,Hulu,Food Network', 'Hulu,Starz',\n",
              "       'HBO MAX,Adult Swim', 'Hulu,Sundance,fuboTV',\n",
              "       'fuboTV,Peacock Premium', 'Hulu,Disney+,FOX',\n",
              "       'Free Services,CBS All Access,Nick',\n",
              "       'Free Services,Netflix,Crunchyroll', 'Free Services,Syfy', 'TLC',\n",
              "       'Hulu,Sundance', 'Free Services,Hulu,HGTV', 'Hulu,TLC,fuboTV',\n",
              "       'Free Services,CNBC,fuboTV', 'Free Services,IndieFlix,Hoopla',\n",
              "       'FX,fuboTV', 'Free Services,TVLand,Hoopla',\n",
              "       'Free Services,CBS All Access,BET+', 'Hulu,BET+',\n",
              "       'Free Services,Netflix,Starz', 'Showtime,Hulu,fuboTV',\n",
              "       'Free Services,HBO MAX,Funimation', 'Free Services,fuboTV,Hoopla',\n",
              "       'A&E', 'IndieFlix,Hoopla', 'Free Services,Hulu,Cartoon Network',\n",
              "       'Disney+,NatGeo', 'Netflix,AcornTV,CBS All Access',\n",
              "       'AcornTV,BritBox', 'Prime Video,fuboTV,Hoopla',\n",
              "       'Prime Video,fuboTV', 'Netflix,Prime Video,AcornTV', 'Sundance',\n",
              "       'History', 'Free Services,History,fuboTV', 'Netflix,BET+',\n",
              "       'Nick,fuboTV', 'Free Services,CBS All Access,NBC',\n",
              "       'Free Services,Hallmark Movies Now', 'Free Services,VH1,fuboTV',\n",
              "       'Prime Video,Hulu,TLC', 'Free Services,History', 'Netflix,Disney+',\n",
              "       'Free Services,Showtime,Hulu', 'Netflix,CBS All Access',\n",
              "       'Prime Video,Hulu,fuboTV', 'Hulu,TLC',\n",
              "       'Free Services,Showtime,BET', 'Free Services,Lifetime,fuboTV',\n",
              "       'Free Services,CBS All Access,BET', 'Showtime', 'YouTube Premium',\n",
              "       'Prime Video,History,Hoopla', 'Showtime,Hulu',\n",
              "       'Free Services,HGTV,fuboTV', 'Hulu,FOX,fuboTV',\n",
              "       'CBS All Access,fuboTV', 'Hulu,HGTV,fuboTV',\n",
              "       'Free Services,Hulu,Lifetime', 'HBO MAX,TruTV', 'Science,fuboTV',\n",
              "       'Free Services,Hulu,BritBox', 'Viceland',\n",
              "       'Free Services,Food Network,fuboTV', 'Free Services,MTV,fuboTV',\n",
              "       'Free Services,A&E,Hoopla', 'Hallmark Movies Now', 'AMC',\n",
              "       'Netflix,TBS,Hoopla', 'Hulu,AMC,AMC Premiere',\n",
              "       'Prime Video,AcornTV', 'Free Services,Travel Channel',\n",
              "       'Free Services,BET,fuboTV', 'Free Services,History,Hoopla',\n",
              "       'Free Services,AMC,fuboTV', 'Free Services,USA,fuboTV',\n",
              "       'TNT,fuboTV', 'TLC,fuboTV', 'Lifetime,fuboTV',\n",
              "       'Hulu,TLC,Food Network', 'Prime Video,CBS All Access,fuboTV',\n",
              "       'Free Services,Hulu,IndieFlix', 'Prime Video,Hulu,A&E',\n",
              "       'Free Services,BET,BET+', 'Free Services,Netflix,Bravo',\n",
              "       'Free Services,Prime Video,A&E', 'BET,BET+', 'Hulu,NBC,USA',\n",
              "       'Netflix,Hulu,TruTV', 'Free Services,A&E',\n",
              "       'Free Services,Disney+,FOX', 'Prime Video,CBS All Access,MTV',\n",
              "       'Free Services,Hulu,DIY', 'Free Services,AcornTV,Hoopla',\n",
              "       'Free Services,TVLand', 'Starz,fuboTV', 'Hulu,Food Network,fuboTV',\n",
              "       'Free Services,Starz,CBS All Access', 'TruTV',\n",
              "       'Free Services,Lifetime', 'VH1,BET+',\n",
              "       'Free Services,Netflix,Disney+', 'Free Services,BritBox,Hoopla',\n",
              "       'Hulu,NatGeo', 'Hulu,DIY,fuboTV', 'CBS All Access,BET+',\n",
              "       'Hulu,Epix', 'Comedy Central', 'Crunchyroll',\n",
              "       'Starz,CBS All Access', 'CBS All Access,fuboTV,BET+',\n",
              "       'Free Services,Prime Video,Travel Channel', 'Prime Video,Showtime',\n",
              "       'Free Services,Cartoon Network,fuboTV', 'Prime Video,TLC',\n",
              "       'Free Services,Viceland', 'Free Services,IndieFlix',\n",
              "       'Hulu,History,fuboTV', 'Viceland,fuboTV',\n",
              "       'Free Services,Prime Video,History', 'Lifetime,Hoopla',\n",
              "       'Hulu,Starz,CBS All Access', 'Free Services,VH1,Hoopla',\n",
              "       'Bravo,fuboTV', 'Free Services,MTV,Hoopla', 'Hulu,Nick,fuboTV',\n",
              "       'Free Services,AMC,AMC Premiere', 'CBS All Access,MTV,Hoopla',\n",
              "       'NatGeo', 'Free Services,DIY,fuboTV', 'Prime Video,Science,fuboTV',\n",
              "       'Free Services,Hulu,Nick', 'History,Hoopla', 'Prime Video,History',\n",
              "       'Sundance,fuboTV,AMC Premiere', 'Free Services,Hulu,Viceland',\n",
              "       'Hulu,fuboTV,Hoopla', 'HBO MAX,HBO,Hulu',\n",
              "       'Prime Video,Hulu,NatGeo', 'Free Services,FYI',\n",
              "       'Free Services,VH1,BET+', 'Prime Video,AcornTV,BritBox',\n",
              "       'Hulu,IFC,fuboTV', 'Free Services,CBS All Access,Hoopla',\n",
              "       'Free Services,FYI,Hoopla', 'Hulu,Peacock Premium',\n",
              "       'Free Services,Netflix,Cartoon Network',\n",
              "       'Prime Video,Hallmark Movies Now', 'Free Services,TLC',\n",
              "       'NBC,USA,fuboTV', 'Disney+,FOX,NatGeo', 'Free Services,TLC,fuboTV',\n",
              "       'HBO MAX,Hulu,fuboTV', 'Free Services,Nick',\n",
              "       'Free Services,HBO,Viceland', 'Netflix,Bravo',\n",
              "       'Free Services,Disney', 'MTV,fuboTV', 'Disney+,fuboTV', 'MTV',\n",
              "       'MTV,Hoopla', 'Prime Video,TLC,fuboTV', 'Free Services,CNBC,NBC',\n",
              "       'Hulu,DIY,HGTV', 'Hulu,USA,fuboTV', 'Travel Channel',\n",
              "       'Food Network,fuboTV', 'Free Services,DIY,HGTV',\n",
              "       'Free Services,TVLand,BET+', '-1',\n",
              "       'Free Services,Netflix,Lifetime', 'fuboTV,BET+',\n",
              "       'Free Services,Comedy Central,Hoopla',\n",
              "       'Travel Channel,Food Network,fuboTV', 'Free Services,HGTV',\n",
              "       'Free Services,Prime Video,Crunchyroll', 'Free Services,DIY,TLC',\n",
              "       'A&E,Hoopla', 'Free Services,Hulu,Peacock Premium',\n",
              "       'Prime Video,DC Universe', 'Free Services,Starz,Funimation',\n",
              "       'Starz,Funimation', 'Free Services,Syfy,YouTube Premium',\n",
              "       'HGTV,fuboTV', 'Free Services,MTV,BET+', 'Free Services,CNBC',\n",
              "       'Comedy Central,Hoopla', 'Free Services,USA', 'ABC', 'Lifetime',\n",
              "       'DIY,HGTV,fuboTV', 'AcornTV,fuboTV,Hoopla', 'IndieFlix,fuboTV',\n",
              "       'Free Services,Hulu,VH1', 'Food Network',\n",
              "       'Free Services,Prime Video,Food Network',\n",
              "       'Netflix,Prime Video,Hoopla', 'FOX,NatGeo', 'Prime Video,BET+',\n",
              "       'Free Services,FYI,A&E', 'TruTV,fuboTV', 'Netflix,A&E',\n",
              "       'Free Services,Comedy Central,BET+',\n",
              "       'Free Services,Prime Video,TLC', 'Prime Video,Science,Hoopla',\n",
              "       'Free Services,Lifetime,Hoopla', 'Hulu,History,Hoopla',\n",
              "       'Travel Channel,fuboTV', 'Netflix,Peacock Premium', 'HGTV',\n",
              "       'Disney+,NatGeo,fuboTV', 'IFC,fuboTV', 'Hulu,ABC',\n",
              "       'Hoopla,Hallmark Movies Now', 'Bravo', 'USA', 'Hulu,A&E,Hoopla',\n",
              "       'Free Services,BET+', 'Comedy Central,fuboTV', 'DIY,HGTV',\n",
              "       'Free Services,Cartoon Network', 'Hulu,Food Network',\n",
              "       'HBO MAX,Prime Video', 'Free Services,Hulu,CNBC', 'HBO,Hoopla',\n",
              "       'Free Services,Travel Channel,fuboTV', 'DIY,fuboTV',\n",
              "       'Free Services,Prime Video,MTV',\n",
              "       'Free Services,Prime Video,Lifetime', 'Free Services,NBC,fuboTV',\n",
              "       'HBO,TLC', 'Hulu,HGTV', 'Viceland,fuboTV,Hoopla',\n",
              "       'Science,TLC,fuboTV', 'Prime Video,IndieFlix',\n",
              "       'YouTube Premium,Hoopla', 'Free Services,Viceland,Hoopla', 'DIY',\n",
              "       'Prime Video,Hulu,Starz', 'CBS All Access,Lifetime',\n",
              "       'Free Services,Prime Video,Funimation', 'Free Services,DIY',\n",
              "       'Free Services,FOX,NatGeo', 'Netflix,Food Network',\n",
              "       'Free Services,Prime Video,Science', 'Prime Video,Science', 'VH1',\n",
              "       'Free Services,BET', 'Hallmark,fuboTV', 'FYI'], dtype=object)"
            ]
          },
          "metadata": {},
          "execution_count": 5
        }
      ]
    },
    {
      "cell_type": "code",
      "source": [
        "median_value = series['IMDB Rating'].median()\n",
        "if not median_value:\n",
        "    each_median_value = median_value[0]\n",
        "    series.loc[:,'IMDB Rating'] = series.loc[:,'IMDB Rating'].fillna(each_median_value)\n",
        "else:\n",
        "    series.loc[:,'IMDB Rating'] = series.loc[:,'IMDB Rating'].fillna(-1)\n"
      ],
      "metadata": {
        "id": "VZ6t4p2yKfcD"
      },
      "execution_count": null,
      "outputs": []
    },
    {
      "cell_type": "code",
      "source": [
        "mode_value = series['Streaming Platform'].mode()\n",
        "if not mode_value.empty:\n",
        "    most_frequent_value = mode_value[0]\n",
        "    series.loc[:,'Streaming Platform'] = series.loc[:,'Streaming Platform'].fillna(most_frequent_value)\n",
        "else:\n",
        "    series.loc[:,'Streaming Platform'] = series.loc[:,'Streaming Platform'].fillna('Unknown')"
      ],
      "metadata": {
        "id": "CkZjG3tZK1m7"
      },
      "execution_count": null,
      "outputs": []
    },
    {
      "cell_type": "code",
      "source": [
        "series.drop_duplicates(inplace = True)"
      ],
      "metadata": {
        "colab": {
          "base_uri": "https://localhost:8080/"
        },
        "id": "51pmjvgZQWBn",
        "outputId": "d278a83c-2f04-49c9-b6aa-699e7ce889af"
      },
      "execution_count": null,
      "outputs": [
        {
          "output_type": "stream",
          "name": "stderr",
          "text": [
            "<ipython-input-8-a6b5c2f57d6f>:1: SettingWithCopyWarning: \n",
            "A value is trying to be set on a copy of a slice from a DataFrame\n",
            "\n",
            "See the caveats in the documentation: https://pandas.pydata.org/pandas-docs/stable/user_guide/indexing.html#returning-a-view-versus-a-copy\n",
            "  series.drop_duplicates(inplace = True)\n"
          ]
        }
      ]
    },
    {
      "cell_type": "code",
      "source": [
        "series.duplicated().sum()"
      ],
      "metadata": {
        "colab": {
          "base_uri": "https://localhost:8080/"
        },
        "id": "tobGh4pQQllO",
        "outputId": "dbc10a5b-4a97-432c-c4a4-d72b7fa3a044"
      },
      "execution_count": null,
      "outputs": [
        {
          "output_type": "execute_result",
          "data": {
            "text/plain": [
              "np.int64(0)"
            ]
          },
          "metadata": {},
          "execution_count": 9
        }
      ]
    },
    {
      "cell_type": "code",
      "source": [
        "series.columns"
      ],
      "metadata": {
        "colab": {
          "base_uri": "https://localhost:8080/"
        },
        "id": "rIORqOzkLGYT",
        "outputId": "4ce52ff3-a93e-4b08-8af7-039d4841338d"
      },
      "execution_count": null,
      "outputs": [
        {
          "output_type": "execute_result",
          "data": {
            "text/plain": [
              "Index(['Series Title', 'Content Rating', 'IMDB Rating', 'Genre', 'Description',\n",
              "       'No of Seasons', 'Streaming Platform'],\n",
              "      dtype='object')"
            ]
          },
          "metadata": {},
          "execution_count": 10
        }
      ]
    },
    {
      "cell_type": "markdown",
      "source": [
        "# Merge features"
      ],
      "metadata": {
        "id": "flFR_5O61gf2"
      }
    },
    {
      "cell_type": "code",
      "source": [
        "series.head(1)"
      ],
      "metadata": {
        "colab": {
          "base_uri": "https://localhost:8080/",
          "height": 115
        },
        "id": "EDfAbiYgRxlG",
        "outputId": "384a7f8b-0c49-4261-e713-efce50d215f2"
      },
      "execution_count": null,
      "outputs": [
        {
          "output_type": "execute_result",
          "data": {
            "text/plain": [
              "   Series Title Content Rating  IMDB Rating        Genre  \\\n",
              "0  Breaking Bad            18+          9.5  Crime,Drama   \n",
              "\n",
              "                                         Description No of Seasons  \\\n",
              "0  When Walter White, a New Mexico chemistry teac...      5Seasons   \n",
              "\n",
              "  Streaming Platform  \n",
              "0            Netflix  "
            ],
            "text/html": [
              "\n",
              "  <div id=\"df-5b63eae6-7955-4df5-8ad7-a2bb00424930\" class=\"colab-df-container\">\n",
              "    <div>\n",
              "<style scoped>\n",
              "    .dataframe tbody tr th:only-of-type {\n",
              "        vertical-align: middle;\n",
              "    }\n",
              "\n",
              "    .dataframe tbody tr th {\n",
              "        vertical-align: top;\n",
              "    }\n",
              "\n",
              "    .dataframe thead th {\n",
              "        text-align: right;\n",
              "    }\n",
              "</style>\n",
              "<table border=\"1\" class=\"dataframe\">\n",
              "  <thead>\n",
              "    <tr style=\"text-align: right;\">\n",
              "      <th></th>\n",
              "      <th>Series Title</th>\n",
              "      <th>Content Rating</th>\n",
              "      <th>IMDB Rating</th>\n",
              "      <th>Genre</th>\n",
              "      <th>Description</th>\n",
              "      <th>No of Seasons</th>\n",
              "      <th>Streaming Platform</th>\n",
              "    </tr>\n",
              "  </thead>\n",
              "  <tbody>\n",
              "    <tr>\n",
              "      <th>0</th>\n",
              "      <td>Breaking Bad</td>\n",
              "      <td>18+</td>\n",
              "      <td>9.5</td>\n",
              "      <td>Crime,Drama</td>\n",
              "      <td>When Walter White, a New Mexico chemistry teac...</td>\n",
              "      <td>5Seasons</td>\n",
              "      <td>Netflix</td>\n",
              "    </tr>\n",
              "  </tbody>\n",
              "</table>\n",
              "</div>\n",
              "    <div class=\"colab-df-buttons\">\n",
              "\n",
              "  <div class=\"colab-df-container\">\n",
              "    <button class=\"colab-df-convert\" onclick=\"convertToInteractive('df-5b63eae6-7955-4df5-8ad7-a2bb00424930')\"\n",
              "            title=\"Convert this dataframe to an interactive table.\"\n",
              "            style=\"display:none;\">\n",
              "\n",
              "  <svg xmlns=\"http://www.w3.org/2000/svg\" height=\"24px\" viewBox=\"0 -960 960 960\">\n",
              "    <path d=\"M120-120v-720h720v720H120Zm60-500h600v-160H180v160Zm220 220h160v-160H400v160Zm0 220h160v-160H400v160ZM180-400h160v-160H180v160Zm440 0h160v-160H620v160ZM180-180h160v-160H180v160Zm440 0h160v-160H620v160Z\"/>\n",
              "  </svg>\n",
              "    </button>\n",
              "\n",
              "  <style>\n",
              "    .colab-df-container {\n",
              "      display:flex;\n",
              "      gap: 12px;\n",
              "    }\n",
              "\n",
              "    .colab-df-convert {\n",
              "      background-color: #E8F0FE;\n",
              "      border: none;\n",
              "      border-radius: 50%;\n",
              "      cursor: pointer;\n",
              "      display: none;\n",
              "      fill: #1967D2;\n",
              "      height: 32px;\n",
              "      padding: 0 0 0 0;\n",
              "      width: 32px;\n",
              "    }\n",
              "\n",
              "    .colab-df-convert:hover {\n",
              "      background-color: #E2EBFA;\n",
              "      box-shadow: 0px 1px 2px rgba(60, 64, 67, 0.3), 0px 1px 3px 1px rgba(60, 64, 67, 0.15);\n",
              "      fill: #174EA6;\n",
              "    }\n",
              "\n",
              "    .colab-df-buttons div {\n",
              "      margin-bottom: 4px;\n",
              "    }\n",
              "\n",
              "    [theme=dark] .colab-df-convert {\n",
              "      background-color: #3B4455;\n",
              "      fill: #D2E3FC;\n",
              "    }\n",
              "\n",
              "    [theme=dark] .colab-df-convert:hover {\n",
              "      background-color: #434B5C;\n",
              "      box-shadow: 0px 1px 3px 1px rgba(0, 0, 0, 0.15);\n",
              "      filter: drop-shadow(0px 1px 2px rgba(0, 0, 0, 0.3));\n",
              "      fill: #FFFFFF;\n",
              "    }\n",
              "  </style>\n",
              "\n",
              "    <script>\n",
              "      const buttonEl =\n",
              "        document.querySelector('#df-5b63eae6-7955-4df5-8ad7-a2bb00424930 button.colab-df-convert');\n",
              "      buttonEl.style.display =\n",
              "        google.colab.kernel.accessAllowed ? 'block' : 'none';\n",
              "\n",
              "      async function convertToInteractive(key) {\n",
              "        const element = document.querySelector('#df-5b63eae6-7955-4df5-8ad7-a2bb00424930');\n",
              "        const dataTable =\n",
              "          await google.colab.kernel.invokeFunction('convertToInteractive',\n",
              "                                                    [key], {});\n",
              "        if (!dataTable) return;\n",
              "\n",
              "        const docLinkHtml = 'Like what you see? Visit the ' +\n",
              "          '<a target=\"_blank\" href=https://colab.research.google.com/notebooks/data_table.ipynb>data table notebook</a>'\n",
              "          + ' to learn more about interactive tables.';\n",
              "        element.innerHTML = '';\n",
              "        dataTable['output_type'] = 'display_data';\n",
              "        await google.colab.output.renderOutput(dataTable, element);\n",
              "        const docLink = document.createElement('div');\n",
              "        docLink.innerHTML = docLinkHtml;\n",
              "        element.appendChild(docLink);\n",
              "      }\n",
              "    </script>\n",
              "  </div>\n",
              "\n",
              "\n",
              "    </div>\n",
              "  </div>\n"
            ],
            "application/vnd.google.colaboratory.intrinsic+json": {
              "type": "dataframe",
              "variable_name": "series",
              "summary": "{\n  \"name\": \"series\",\n  \"rows\": 12352,\n  \"fields\": [\n    {\n      \"column\": \"Series Title\",\n      \"properties\": {\n        \"dtype\": \"string\",\n        \"num_unique_values\": 12109,\n        \"samples\": [\n          \"Tabula Rasa\",\n          \"Top Chef Duels\",\n          \"Ninja Nonsense\"\n        ],\n        \"semantic_type\": \"\",\n        \"description\": \"\"\n      }\n    },\n    {\n      \"column\": \"Content Rating\",\n      \"properties\": {\n        \"dtype\": \"category\",\n        \"num_unique_values\": 5,\n        \"samples\": [\n          \"16+\",\n          \"13+\",\n          \"7+\"\n        ],\n        \"semantic_type\": \"\",\n        \"description\": \"\"\n      }\n    },\n    {\n      \"column\": \"IMDB Rating\",\n      \"properties\": {\n        \"dtype\": \"number\",\n        \"std\": 3.196167370928801,\n        \"min\": -1.0,\n        \"max\": 9.7,\n        \"num_unique_values\": 85,\n        \"samples\": [\n          1.7,\n          9.5,\n          3.7\n        ],\n        \"semantic_type\": \"\",\n        \"description\": \"\"\n      }\n    },\n    {\n      \"column\": \"Genre\",\n      \"properties\": {\n        \"dtype\": \"category\",\n        \"num_unique_values\": 858,\n        \"samples\": [\n          \"2017,Lifetime\",\n          \"2013,Cinemax\",\n          \"Action & Adventure,LGBTQ\"\n        ],\n        \"semantic_type\": \"\",\n        \"description\": \"\"\n      }\n    },\n    {\n      \"column\": \"Description\",\n      \"properties\": {\n        \"dtype\": \"string\",\n        \"num_unique_values\": 11875,\n        \"samples\": [\n          \"Mary Berry discovers the rich history of our nation's greatest stately homes through the prism of food.Mary Berry's Country House Secrets featuring Mary Berry has one or more episodes streaming with subscription on BritBox. It has 4 episodes over 1 season. Mary Berry's Country House Secrets is no longer running and has no plans to air new episodes or seasons. It has a high IMDb audience rating of 8.6 (19 votes).\",\n          \"Saturday Night Live Weekend Update Thursday is an American limited-run series broadcast on NBC. It is a political satire news show spin-off from Saturday Night Live, featuring that show's \\\"Weekend Update\\\" segment. It initially ran for three 30-minute episodes in October 2008, during the lead-up to the 2008 United States presidential election.Saturday Night Live Weekend Update Thursday featuring Casey Wilson and Kristen Wiig has one or more episodes available for purchase on iTunes, available for purchase on Google Play, available for purchase on Prime Video, and 1 other. It's a comedy show with 11 episodes over 4 seasons. Saturday Night Live Weekend Update Thursday is no longer running and has no plans to air new episodes or seasons. It has a better than average IMDb audience rating of 7.1 (816 votes).\",\n          \"While touting itself as a mecca for progressive expansion, early 1980s Atlanta has a dark secret. Over two years, at least twenty-nine black children, teens, and young adults have been systematically abducted and murdered from low income neighborhoods. As the mothers of the victims beg law enforcement to take action, the investigation languishes while the country looks on. Suspects include the KKK, the police and known pedophiles. The nightmare is seemingly over when Wayne Williams, a young black man, is arrested and the majority of the crimes are attributed to him. But was he simply a scapegoat? In this 3-part special we explore the case from those closest to it while highlighting the enduring questions surrounding this tragic chapter in Atlanta's history.The Atlanta Child Murders has one or more episodes streaming via tv everywhere with Discovery GO, streaming via tv everywhere with Investigation Discovery, streaming with subscription on fuboTV, and 3 others. It's a crime and documentary show with 3 episodes over 1 season. The Atlanta Child Murders is still airing with no announced date for the next episode or season. It has a better than average IMDb audience rating of 6.7 (90 votes).\"\n        ],\n        \"semantic_type\": \"\",\n        \"description\": \"\"\n      }\n    },\n    {\n      \"column\": \"No of Seasons\",\n      \"properties\": {\n        \"dtype\": \"category\",\n        \"num_unique_values\": 94,\n        \"samples\": [\n          \"27 Seasons\",\n          \"4 Seasons\",\n          \"75 Seasons\"\n        ],\n        \"semantic_type\": \"\",\n        \"description\": \"\"\n      }\n    },\n    {\n      \"column\": \"Streaming Platform\",\n      \"properties\": {\n        \"dtype\": \"category\",\n        \"num_unique_values\": 530,\n        \"samples\": [\n          \"Hulu,IFC,AMC\",\n          \"Viceland,fuboTV\",\n          \"HBO MAX,Hulu,TBS\"\n        ],\n        \"semantic_type\": \"\",\n        \"description\": \"\"\n      }\n    }\n  ]\n}"
            }
          },
          "metadata": {},
          "execution_count": 11
        }
      ]
    },
    {
      "cell_type": "code",
      "source": [
        "series.loc[:,'tags'] = series.loc[:,\"Content Rating\"] + series.loc[:,'Genre'] + series.loc[:,'Description'] + series.loc[:,'No of Seasons'] + series['Streaming Platform']"
      ],
      "metadata": {
        "id": "Tzlx-qWKUkbG",
        "colab": {
          "base_uri": "https://localhost:8080/"
        },
        "outputId": "6fb4c2ac-70c7-4214-818d-7859ea91f520"
      },
      "execution_count": null,
      "outputs": [
        {
          "output_type": "stream",
          "name": "stderr",
          "text": [
            "<ipython-input-12-f55e6776c1fc>:1: SettingWithCopyWarning: \n",
            "A value is trying to be set on a copy of a slice from a DataFrame.\n",
            "Try using .loc[row_indexer,col_indexer] = value instead\n",
            "\n",
            "See the caveats in the documentation: https://pandas.pydata.org/pandas-docs/stable/user_guide/indexing.html#returning-a-view-versus-a-copy\n",
            "  series.loc[:,'tags'] = series.loc[:,\"Content Rating\"] + series.loc[:,'Genre'] + series.loc[:,'Description'] + series.loc[:,'No of Seasons'] + series['Streaming Platform']\n"
          ]
        }
      ]
    },
    {
      "cell_type": "code",
      "source": [
        "series.loc[:,\"Content Rating\"] = series.loc[:,\"Content Rating\"].apply(lambda x:str(x))"
      ],
      "metadata": {
        "id": "p0NXVl0wU-gG"
      },
      "execution_count": null,
      "outputs": []
    },
    {
      "cell_type": "code",
      "source": [
        "series.head(1)"
      ],
      "metadata": {
        "colab": {
          "base_uri": "https://localhost:8080/",
          "height": 133
        },
        "id": "xNcXexaaAVMC",
        "outputId": "fda16835-f579-492f-c2a4-07e391715535"
      },
      "execution_count": null,
      "outputs": [
        {
          "output_type": "execute_result",
          "data": {
            "text/plain": [
              "   Series Title Content Rating  IMDB Rating        Genre  \\\n",
              "0  Breaking Bad            18+          9.5  Crime,Drama   \n",
              "\n",
              "                                         Description No of Seasons  \\\n",
              "0  When Walter White, a New Mexico chemistry teac...      5Seasons   \n",
              "\n",
              "  Streaming Platform                                               tags  \n",
              "0            Netflix  18+Crime,DramaWhen Walter White, a New Mexico ...  "
            ],
            "text/html": [
              "\n",
              "  <div id=\"df-54f6ba0a-8062-47a4-8fcc-99b634767083\" class=\"colab-df-container\">\n",
              "    <div>\n",
              "<style scoped>\n",
              "    .dataframe tbody tr th:only-of-type {\n",
              "        vertical-align: middle;\n",
              "    }\n",
              "\n",
              "    .dataframe tbody tr th {\n",
              "        vertical-align: top;\n",
              "    }\n",
              "\n",
              "    .dataframe thead th {\n",
              "        text-align: right;\n",
              "    }\n",
              "</style>\n",
              "<table border=\"1\" class=\"dataframe\">\n",
              "  <thead>\n",
              "    <tr style=\"text-align: right;\">\n",
              "      <th></th>\n",
              "      <th>Series Title</th>\n",
              "      <th>Content Rating</th>\n",
              "      <th>IMDB Rating</th>\n",
              "      <th>Genre</th>\n",
              "      <th>Description</th>\n",
              "      <th>No of Seasons</th>\n",
              "      <th>Streaming Platform</th>\n",
              "      <th>tags</th>\n",
              "    </tr>\n",
              "  </thead>\n",
              "  <tbody>\n",
              "    <tr>\n",
              "      <th>0</th>\n",
              "      <td>Breaking Bad</td>\n",
              "      <td>18+</td>\n",
              "      <td>9.5</td>\n",
              "      <td>Crime,Drama</td>\n",
              "      <td>When Walter White, a New Mexico chemistry teac...</td>\n",
              "      <td>5Seasons</td>\n",
              "      <td>Netflix</td>\n",
              "      <td>18+Crime,DramaWhen Walter White, a New Mexico ...</td>\n",
              "    </tr>\n",
              "  </tbody>\n",
              "</table>\n",
              "</div>\n",
              "    <div class=\"colab-df-buttons\">\n",
              "\n",
              "  <div class=\"colab-df-container\">\n",
              "    <button class=\"colab-df-convert\" onclick=\"convertToInteractive('df-54f6ba0a-8062-47a4-8fcc-99b634767083')\"\n",
              "            title=\"Convert this dataframe to an interactive table.\"\n",
              "            style=\"display:none;\">\n",
              "\n",
              "  <svg xmlns=\"http://www.w3.org/2000/svg\" height=\"24px\" viewBox=\"0 -960 960 960\">\n",
              "    <path d=\"M120-120v-720h720v720H120Zm60-500h600v-160H180v160Zm220 220h160v-160H400v160Zm0 220h160v-160H400v160ZM180-400h160v-160H180v160Zm440 0h160v-160H620v160ZM180-180h160v-160H180v160Zm440 0h160v-160H620v160Z\"/>\n",
              "  </svg>\n",
              "    </button>\n",
              "\n",
              "  <style>\n",
              "    .colab-df-container {\n",
              "      display:flex;\n",
              "      gap: 12px;\n",
              "    }\n",
              "\n",
              "    .colab-df-convert {\n",
              "      background-color: #E8F0FE;\n",
              "      border: none;\n",
              "      border-radius: 50%;\n",
              "      cursor: pointer;\n",
              "      display: none;\n",
              "      fill: #1967D2;\n",
              "      height: 32px;\n",
              "      padding: 0 0 0 0;\n",
              "      width: 32px;\n",
              "    }\n",
              "\n",
              "    .colab-df-convert:hover {\n",
              "      background-color: #E2EBFA;\n",
              "      box-shadow: 0px 1px 2px rgba(60, 64, 67, 0.3), 0px 1px 3px 1px rgba(60, 64, 67, 0.15);\n",
              "      fill: #174EA6;\n",
              "    }\n",
              "\n",
              "    .colab-df-buttons div {\n",
              "      margin-bottom: 4px;\n",
              "    }\n",
              "\n",
              "    [theme=dark] .colab-df-convert {\n",
              "      background-color: #3B4455;\n",
              "      fill: #D2E3FC;\n",
              "    }\n",
              "\n",
              "    [theme=dark] .colab-df-convert:hover {\n",
              "      background-color: #434B5C;\n",
              "      box-shadow: 0px 1px 3px 1px rgba(0, 0, 0, 0.15);\n",
              "      filter: drop-shadow(0px 1px 2px rgba(0, 0, 0, 0.3));\n",
              "      fill: #FFFFFF;\n",
              "    }\n",
              "  </style>\n",
              "\n",
              "    <script>\n",
              "      const buttonEl =\n",
              "        document.querySelector('#df-54f6ba0a-8062-47a4-8fcc-99b634767083 button.colab-df-convert');\n",
              "      buttonEl.style.display =\n",
              "        google.colab.kernel.accessAllowed ? 'block' : 'none';\n",
              "\n",
              "      async function convertToInteractive(key) {\n",
              "        const element = document.querySelector('#df-54f6ba0a-8062-47a4-8fcc-99b634767083');\n",
              "        const dataTable =\n",
              "          await google.colab.kernel.invokeFunction('convertToInteractive',\n",
              "                                                    [key], {});\n",
              "        if (!dataTable) return;\n",
              "\n",
              "        const docLinkHtml = 'Like what you see? Visit the ' +\n",
              "          '<a target=\"_blank\" href=https://colab.research.google.com/notebooks/data_table.ipynb>data table notebook</a>'\n",
              "          + ' to learn more about interactive tables.';\n",
              "        element.innerHTML = '';\n",
              "        dataTable['output_type'] = 'display_data';\n",
              "        await google.colab.output.renderOutput(dataTable, element);\n",
              "        const docLink = document.createElement('div');\n",
              "        docLink.innerHTML = docLinkHtml;\n",
              "        element.appendChild(docLink);\n",
              "      }\n",
              "    </script>\n",
              "  </div>\n",
              "\n",
              "\n",
              "    </div>\n",
              "  </div>\n"
            ],
            "application/vnd.google.colaboratory.intrinsic+json": {
              "type": "dataframe",
              "variable_name": "series",
              "summary": "{\n  \"name\": \"series\",\n  \"rows\": 12352,\n  \"fields\": [\n    {\n      \"column\": \"Series Title\",\n      \"properties\": {\n        \"dtype\": \"string\",\n        \"num_unique_values\": 12109,\n        \"samples\": [\n          \"Tabula Rasa\",\n          \"Top Chef Duels\",\n          \"Ninja Nonsense\"\n        ],\n        \"semantic_type\": \"\",\n        \"description\": \"\"\n      }\n    },\n    {\n      \"column\": \"Content Rating\",\n      \"properties\": {\n        \"dtype\": \"category\",\n        \"num_unique_values\": 5,\n        \"samples\": [\n          \"16+\",\n          \"13+\",\n          \"7+\"\n        ],\n        \"semantic_type\": \"\",\n        \"description\": \"\"\n      }\n    },\n    {\n      \"column\": \"IMDB Rating\",\n      \"properties\": {\n        \"dtype\": \"number\",\n        \"std\": 3.196167370928801,\n        \"min\": -1.0,\n        \"max\": 9.7,\n        \"num_unique_values\": 85,\n        \"samples\": [\n          1.7,\n          9.5,\n          3.7\n        ],\n        \"semantic_type\": \"\",\n        \"description\": \"\"\n      }\n    },\n    {\n      \"column\": \"Genre\",\n      \"properties\": {\n        \"dtype\": \"category\",\n        \"num_unique_values\": 858,\n        \"samples\": [\n          \"2017,Lifetime\",\n          \"2013,Cinemax\",\n          \"Action & Adventure,LGBTQ\"\n        ],\n        \"semantic_type\": \"\",\n        \"description\": \"\"\n      }\n    },\n    {\n      \"column\": \"Description\",\n      \"properties\": {\n        \"dtype\": \"string\",\n        \"num_unique_values\": 11875,\n        \"samples\": [\n          \"Mary Berry discovers the rich history of our nation's greatest stately homes through the prism of food.Mary Berry's Country House Secrets featuring Mary Berry has one or more episodes streaming with subscription on BritBox. It has 4 episodes over 1 season. Mary Berry's Country House Secrets is no longer running and has no plans to air new episodes or seasons. It has a high IMDb audience rating of 8.6 (19 votes).\",\n          \"Saturday Night Live Weekend Update Thursday is an American limited-run series broadcast on NBC. It is a political satire news show spin-off from Saturday Night Live, featuring that show's \\\"Weekend Update\\\" segment. It initially ran for three 30-minute episodes in October 2008, during the lead-up to the 2008 United States presidential election.Saturday Night Live Weekend Update Thursday featuring Casey Wilson and Kristen Wiig has one or more episodes available for purchase on iTunes, available for purchase on Google Play, available for purchase on Prime Video, and 1 other. It's a comedy show with 11 episodes over 4 seasons. Saturday Night Live Weekend Update Thursday is no longer running and has no plans to air new episodes or seasons. It has a better than average IMDb audience rating of 7.1 (816 votes).\",\n          \"While touting itself as a mecca for progressive expansion, early 1980s Atlanta has a dark secret. Over two years, at least twenty-nine black children, teens, and young adults have been systematically abducted and murdered from low income neighborhoods. As the mothers of the victims beg law enforcement to take action, the investigation languishes while the country looks on. Suspects include the KKK, the police and known pedophiles. The nightmare is seemingly over when Wayne Williams, a young black man, is arrested and the majority of the crimes are attributed to him. But was he simply a scapegoat? In this 3-part special we explore the case from those closest to it while highlighting the enduring questions surrounding this tragic chapter in Atlanta's history.The Atlanta Child Murders has one or more episodes streaming via tv everywhere with Discovery GO, streaming via tv everywhere with Investigation Discovery, streaming with subscription on fuboTV, and 3 others. It's a crime and documentary show with 3 episodes over 1 season. The Atlanta Child Murders is still airing with no announced date for the next episode or season. It has a better than average IMDb audience rating of 6.7 (90 votes).\"\n        ],\n        \"semantic_type\": \"\",\n        \"description\": \"\"\n      }\n    },\n    {\n      \"column\": \"No of Seasons\",\n      \"properties\": {\n        \"dtype\": \"category\",\n        \"num_unique_values\": 94,\n        \"samples\": [\n          \"27 Seasons\",\n          \"4 Seasons\",\n          \"75 Seasons\"\n        ],\n        \"semantic_type\": \"\",\n        \"description\": \"\"\n      }\n    },\n    {\n      \"column\": \"Streaming Platform\",\n      \"properties\": {\n        \"dtype\": \"category\",\n        \"num_unique_values\": 530,\n        \"samples\": [\n          \"Hulu,IFC,AMC\",\n          \"Viceland,fuboTV\",\n          \"HBO MAX,Hulu,TBS\"\n        ],\n        \"semantic_type\": \"\",\n        \"description\": \"\"\n      }\n    },\n    {\n      \"column\": \"tags\",\n      \"properties\": {\n        \"dtype\": \"string\",\n        \"num_unique_values\": 11877,\n        \"samples\": [\n          \"allDocumentary,2013Join the legendary \\u2018How It's Made' crew as they immerse themselves in automobile heaven, and discover how incredible machines are designed and created. From a Maserati to the Audi R8, from a Morgan Aero Coupe to a Porsche 911, the team travel around the world to visit the birthplaces of a host of dream cars. Each half hour episode will reveal the car's inner workings and gorgeous exteriors, which is enhanced with unprecedented access to the factories and test labs that are integral to their conception and creation.How It's Made: Dream Cars featuring Tony Hirst and Brooks T. Moore has one or more episodes streaming with subscription on Motor Trend (Via Prime Video), available for purchase on iTunes, available for purchase on Google Play, and 3 others. It's a documentary show with 51 episodes over 5 seasons. How It's Made: Dream Cars is still airing with no announced date for the next episode or season. It has a high IMDb audience rating of 7.7 (180 votes).5SeasonsNetflix\",\n          \"16+Animation,DramaThe adventures of a vampire girl, whose destiny is to hunt down all stray shinma (demon) and send them back to the darkness.Vampire Princess Miyu has one or more episodes available for purchase on iTunes. It's an animation and drama show with 26 episodes over 1 season. Vampire Princess Miyu is no longer running and has no plans to air new episodes or seasons. It has a better than average IMDb audience rating of 7.0 (524 votes).1SeasonNetflix\",\n          \"16+Reality,2012Follow some of the most peculiar self-proclaimed frugalistas as they go to radical lengths to save money. These extreme penny pinchers share their best money saving tips, from dumpster diving to excessive recycling to strict budgeting.Extreme Cheapskates has one or more episodes streaming via tv everywhere with TLC GO, streaming with subscription on fuboTV, available for purchase on iTunes, and 4 others. It's a reality show with 29 episodes over 3 seasons. Extreme Cheapskates is no longer running and has no plans to air new episodes or seasons. It has an average IMDb audience rating of 5.5 (480 votes).3 SeasonsTLC,fuboTV\"\n        ],\n        \"semantic_type\": \"\",\n        \"description\": \"\"\n      }\n    }\n  ]\n}"
            }
          },
          "metadata": {},
          "execution_count": 14
        }
      ]
    },
    {
      "cell_type": "code",
      "source": [
        "final_df = series[['Series Title', 'tags']]"
      ],
      "metadata": {
        "id": "yXfrFVZ-WL-X"
      },
      "execution_count": null,
      "outputs": []
    },
    {
      "cell_type": "markdown",
      "source": [
        "# new dataframe with merged features"
      ],
      "metadata": {
        "id": "IVwOr2V71mVG"
      }
    },
    {
      "cell_type": "code",
      "source": [
        "final_df.head(1)"
      ],
      "metadata": {
        "colab": {
          "base_uri": "https://localhost:8080/",
          "height": 81
        },
        "id": "KYjmp6czWYcX",
        "outputId": "4426ca80-973f-4c5c-f4da-c3625bf809b8"
      },
      "execution_count": null,
      "outputs": [
        {
          "output_type": "execute_result",
          "data": {
            "text/plain": [
              "   Series Title                                               tags\n",
              "0  Breaking Bad  18+Crime,DramaWhen Walter White, a New Mexico ..."
            ],
            "text/html": [
              "\n",
              "  <div id=\"df-a27a1cc8-f7a7-4722-a1c1-25e8037dce76\" class=\"colab-df-container\">\n",
              "    <div>\n",
              "<style scoped>\n",
              "    .dataframe tbody tr th:only-of-type {\n",
              "        vertical-align: middle;\n",
              "    }\n",
              "\n",
              "    .dataframe tbody tr th {\n",
              "        vertical-align: top;\n",
              "    }\n",
              "\n",
              "    .dataframe thead th {\n",
              "        text-align: right;\n",
              "    }\n",
              "</style>\n",
              "<table border=\"1\" class=\"dataframe\">\n",
              "  <thead>\n",
              "    <tr style=\"text-align: right;\">\n",
              "      <th></th>\n",
              "      <th>Series Title</th>\n",
              "      <th>tags</th>\n",
              "    </tr>\n",
              "  </thead>\n",
              "  <tbody>\n",
              "    <tr>\n",
              "      <th>0</th>\n",
              "      <td>Breaking Bad</td>\n",
              "      <td>18+Crime,DramaWhen Walter White, a New Mexico ...</td>\n",
              "    </tr>\n",
              "  </tbody>\n",
              "</table>\n",
              "</div>\n",
              "    <div class=\"colab-df-buttons\">\n",
              "\n",
              "  <div class=\"colab-df-container\">\n",
              "    <button class=\"colab-df-convert\" onclick=\"convertToInteractive('df-a27a1cc8-f7a7-4722-a1c1-25e8037dce76')\"\n",
              "            title=\"Convert this dataframe to an interactive table.\"\n",
              "            style=\"display:none;\">\n",
              "\n",
              "  <svg xmlns=\"http://www.w3.org/2000/svg\" height=\"24px\" viewBox=\"0 -960 960 960\">\n",
              "    <path d=\"M120-120v-720h720v720H120Zm60-500h600v-160H180v160Zm220 220h160v-160H400v160Zm0 220h160v-160H400v160ZM180-400h160v-160H180v160Zm440 0h160v-160H620v160ZM180-180h160v-160H180v160Zm440 0h160v-160H620v160Z\"/>\n",
              "  </svg>\n",
              "    </button>\n",
              "\n",
              "  <style>\n",
              "    .colab-df-container {\n",
              "      display:flex;\n",
              "      gap: 12px;\n",
              "    }\n",
              "\n",
              "    .colab-df-convert {\n",
              "      background-color: #E8F0FE;\n",
              "      border: none;\n",
              "      border-radius: 50%;\n",
              "      cursor: pointer;\n",
              "      display: none;\n",
              "      fill: #1967D2;\n",
              "      height: 32px;\n",
              "      padding: 0 0 0 0;\n",
              "      width: 32px;\n",
              "    }\n",
              "\n",
              "    .colab-df-convert:hover {\n",
              "      background-color: #E2EBFA;\n",
              "      box-shadow: 0px 1px 2px rgba(60, 64, 67, 0.3), 0px 1px 3px 1px rgba(60, 64, 67, 0.15);\n",
              "      fill: #174EA6;\n",
              "    }\n",
              "\n",
              "    .colab-df-buttons div {\n",
              "      margin-bottom: 4px;\n",
              "    }\n",
              "\n",
              "    [theme=dark] .colab-df-convert {\n",
              "      background-color: #3B4455;\n",
              "      fill: #D2E3FC;\n",
              "    }\n",
              "\n",
              "    [theme=dark] .colab-df-convert:hover {\n",
              "      background-color: #434B5C;\n",
              "      box-shadow: 0px 1px 3px 1px rgba(0, 0, 0, 0.15);\n",
              "      filter: drop-shadow(0px 1px 2px rgba(0, 0, 0, 0.3));\n",
              "      fill: #FFFFFF;\n",
              "    }\n",
              "  </style>\n",
              "\n",
              "    <script>\n",
              "      const buttonEl =\n",
              "        document.querySelector('#df-a27a1cc8-f7a7-4722-a1c1-25e8037dce76 button.colab-df-convert');\n",
              "      buttonEl.style.display =\n",
              "        google.colab.kernel.accessAllowed ? 'block' : 'none';\n",
              "\n",
              "      async function convertToInteractive(key) {\n",
              "        const element = document.querySelector('#df-a27a1cc8-f7a7-4722-a1c1-25e8037dce76');\n",
              "        const dataTable =\n",
              "          await google.colab.kernel.invokeFunction('convertToInteractive',\n",
              "                                                    [key], {});\n",
              "        if (!dataTable) return;\n",
              "\n",
              "        const docLinkHtml = 'Like what you see? Visit the ' +\n",
              "          '<a target=\"_blank\" href=https://colab.research.google.com/notebooks/data_table.ipynb>data table notebook</a>'\n",
              "          + ' to learn more about interactive tables.';\n",
              "        element.innerHTML = '';\n",
              "        dataTable['output_type'] = 'display_data';\n",
              "        await google.colab.output.renderOutput(dataTable, element);\n",
              "        const docLink = document.createElement('div');\n",
              "        docLink.innerHTML = docLinkHtml;\n",
              "        element.appendChild(docLink);\n",
              "      }\n",
              "    </script>\n",
              "  </div>\n",
              "\n",
              "\n",
              "    </div>\n",
              "  </div>\n"
            ],
            "application/vnd.google.colaboratory.intrinsic+json": {
              "type": "dataframe",
              "variable_name": "final_df",
              "summary": "{\n  \"name\": \"final_df\",\n  \"rows\": 12352,\n  \"fields\": [\n    {\n      \"column\": \"Series Title\",\n      \"properties\": {\n        \"dtype\": \"string\",\n        \"num_unique_values\": 12109,\n        \"samples\": [\n          \"Tabula Rasa\",\n          \"Top Chef Duels\",\n          \"Ninja Nonsense\"\n        ],\n        \"semantic_type\": \"\",\n        \"description\": \"\"\n      }\n    },\n    {\n      \"column\": \"tags\",\n      \"properties\": {\n        \"dtype\": \"string\",\n        \"num_unique_values\": 11877,\n        \"samples\": [\n          \"allDocumentary,2013Join the legendary \\u2018How It's Made' crew as they immerse themselves in automobile heaven, and discover how incredible machines are designed and created. From a Maserati to the Audi R8, from a Morgan Aero Coupe to a Porsche 911, the team travel around the world to visit the birthplaces of a host of dream cars. Each half hour episode will reveal the car's inner workings and gorgeous exteriors, which is enhanced with unprecedented access to the factories and test labs that are integral to their conception and creation.How It's Made: Dream Cars featuring Tony Hirst and Brooks T. Moore has one or more episodes streaming with subscription on Motor Trend (Via Prime Video), available for purchase on iTunes, available for purchase on Google Play, and 3 others. It's a documentary show with 51 episodes over 5 seasons. How It's Made: Dream Cars is still airing with no announced date for the next episode or season. It has a high IMDb audience rating of 7.7 (180 votes).5SeasonsNetflix\",\n          \"16+Animation,DramaThe adventures of a vampire girl, whose destiny is to hunt down all stray shinma (demon) and send them back to the darkness.Vampire Princess Miyu has one or more episodes available for purchase on iTunes. It's an animation and drama show with 26 episodes over 1 season. Vampire Princess Miyu is no longer running and has no plans to air new episodes or seasons. It has a better than average IMDb audience rating of 7.0 (524 votes).1SeasonNetflix\",\n          \"16+Reality,2012Follow some of the most peculiar self-proclaimed frugalistas as they go to radical lengths to save money. These extreme penny pinchers share their best money saving tips, from dumpster diving to excessive recycling to strict budgeting.Extreme Cheapskates has one or more episodes streaming via tv everywhere with TLC GO, streaming with subscription on fuboTV, available for purchase on iTunes, and 4 others. It's a reality show with 29 episodes over 3 seasons. Extreme Cheapskates is no longer running and has no plans to air new episodes or seasons. It has an average IMDb audience rating of 5.5 (480 votes).3 SeasonsTLC,fuboTV\"\n        ],\n        \"semantic_type\": \"\",\n        \"description\": \"\"\n      }\n    }\n  ]\n}"
            }
          },
          "metadata": {},
          "execution_count": 16
        }
      ]
    },
    {
      "cell_type": "code",
      "source": [
        "final_df['tags'][9]"
      ],
      "metadata": {
        "colab": {
          "base_uri": "https://localhost:8080/",
          "height": 122
        },
        "id": "6ZhalLs29gqY",
        "outputId": "4f567679-ab5e-4021-c6f8-872d3c60b345"
      },
      "execution_count": null,
      "outputs": [
        {
          "output_type": "execute_result",
          "data": {
            "text/plain": [
              "\"7+Action & Adventure,AnimationIn a war-torn world of elemental magic, a young boy reawakens to undertake a dangerous mystic quest to fulfill his destiny as the Avatar, and bring peace to the world.Avatar: The Last Airbender featuring Olivia Hack and Jennie Kwan has one or more episodes streaming with subscription on Netflix, streaming on CBS All Access, streaming with subscription on Hoopla, and 6 others. It's an action & adventure and animation show with 66 episodes over 3 seasons. Avatar: The Last Airbender is no longer running and has no plans to air new episodes or seasons. It has a very high IMDb audience rating of 9.2 (232,305 votes) and was very well received by critics.3SeasonsNetflix,CBS All Access,Hoopla\""
            ],
            "application/vnd.google.colaboratory.intrinsic+json": {
              "type": "string"
            }
          },
          "metadata": {},
          "execution_count": 17
        }
      ]
    },
    {
      "cell_type": "code",
      "source": [
        "final_df.info()"
      ],
      "metadata": {
        "colab": {
          "base_uri": "https://localhost:8080/"
        },
        "id": "rVRiyVxa-aNQ",
        "outputId": "b8c2037b-1ac9-4e51-c0eb-cc19076cc205"
      },
      "execution_count": null,
      "outputs": [
        {
          "output_type": "stream",
          "name": "stdout",
          "text": [
            "<class 'pandas.core.frame.DataFrame'>\n",
            "Index: 12352 entries, 0 to 12352\n",
            "Data columns (total 2 columns):\n",
            " #   Column        Non-Null Count  Dtype \n",
            "---  ------        --------------  ----- \n",
            " 0   Series Title  12352 non-null  object\n",
            " 1   tags          12352 non-null  object\n",
            "dtypes: object(2)\n",
            "memory usage: 547.5+ KB\n"
          ]
        }
      ]
    },
    {
      "cell_type": "code",
      "source": [
        "final_df.sample(1)"
      ],
      "metadata": {
        "colab": {
          "base_uri": "https://localhost:8080/",
          "height": 81
        },
        "id": "tVYB51YiA65R",
        "outputId": "6468633e-8156-4459-839c-da7024c68b75"
      },
      "execution_count": null,
      "outputs": [
        {
          "output_type": "execute_result",
          "data": {
            "text/plain": [
              "             Series Title                                               tags\n",
              "10056  Claimed and Shamed  16+Documentary,CrimeDocumentary series that ca..."
            ],
            "text/html": [
              "\n",
              "  <div id=\"df-dbdf8b71-37b8-4ab0-9a2c-aad8033e2e81\" class=\"colab-df-container\">\n",
              "    <div>\n",
              "<style scoped>\n",
              "    .dataframe tbody tr th:only-of-type {\n",
              "        vertical-align: middle;\n",
              "    }\n",
              "\n",
              "    .dataframe tbody tr th {\n",
              "        vertical-align: top;\n",
              "    }\n",
              "\n",
              "    .dataframe thead th {\n",
              "        text-align: right;\n",
              "    }\n",
              "</style>\n",
              "<table border=\"1\" class=\"dataframe\">\n",
              "  <thead>\n",
              "    <tr style=\"text-align: right;\">\n",
              "      <th></th>\n",
              "      <th>Series Title</th>\n",
              "      <th>tags</th>\n",
              "    </tr>\n",
              "  </thead>\n",
              "  <tbody>\n",
              "    <tr>\n",
              "      <th>10056</th>\n",
              "      <td>Claimed and Shamed</td>\n",
              "      <td>16+Documentary,CrimeDocumentary series that ca...</td>\n",
              "    </tr>\n",
              "  </tbody>\n",
              "</table>\n",
              "</div>\n",
              "    <div class=\"colab-df-buttons\">\n",
              "\n",
              "  <div class=\"colab-df-container\">\n",
              "    <button class=\"colab-df-convert\" onclick=\"convertToInteractive('df-dbdf8b71-37b8-4ab0-9a2c-aad8033e2e81')\"\n",
              "            title=\"Convert this dataframe to an interactive table.\"\n",
              "            style=\"display:none;\">\n",
              "\n",
              "  <svg xmlns=\"http://www.w3.org/2000/svg\" height=\"24px\" viewBox=\"0 -960 960 960\">\n",
              "    <path d=\"M120-120v-720h720v720H120Zm60-500h600v-160H180v160Zm220 220h160v-160H400v160Zm0 220h160v-160H400v160ZM180-400h160v-160H180v160Zm440 0h160v-160H620v160ZM180-180h160v-160H180v160Zm440 0h160v-160H620v160Z\"/>\n",
              "  </svg>\n",
              "    </button>\n",
              "\n",
              "  <style>\n",
              "    .colab-df-container {\n",
              "      display:flex;\n",
              "      gap: 12px;\n",
              "    }\n",
              "\n",
              "    .colab-df-convert {\n",
              "      background-color: #E8F0FE;\n",
              "      border: none;\n",
              "      border-radius: 50%;\n",
              "      cursor: pointer;\n",
              "      display: none;\n",
              "      fill: #1967D2;\n",
              "      height: 32px;\n",
              "      padding: 0 0 0 0;\n",
              "      width: 32px;\n",
              "    }\n",
              "\n",
              "    .colab-df-convert:hover {\n",
              "      background-color: #E2EBFA;\n",
              "      box-shadow: 0px 1px 2px rgba(60, 64, 67, 0.3), 0px 1px 3px 1px rgba(60, 64, 67, 0.15);\n",
              "      fill: #174EA6;\n",
              "    }\n",
              "\n",
              "    .colab-df-buttons div {\n",
              "      margin-bottom: 4px;\n",
              "    }\n",
              "\n",
              "    [theme=dark] .colab-df-convert {\n",
              "      background-color: #3B4455;\n",
              "      fill: #D2E3FC;\n",
              "    }\n",
              "\n",
              "    [theme=dark] .colab-df-convert:hover {\n",
              "      background-color: #434B5C;\n",
              "      box-shadow: 0px 1px 3px 1px rgba(0, 0, 0, 0.15);\n",
              "      filter: drop-shadow(0px 1px 2px rgba(0, 0, 0, 0.3));\n",
              "      fill: #FFFFFF;\n",
              "    }\n",
              "  </style>\n",
              "\n",
              "    <script>\n",
              "      const buttonEl =\n",
              "        document.querySelector('#df-dbdf8b71-37b8-4ab0-9a2c-aad8033e2e81 button.colab-df-convert');\n",
              "      buttonEl.style.display =\n",
              "        google.colab.kernel.accessAllowed ? 'block' : 'none';\n",
              "\n",
              "      async function convertToInteractive(key) {\n",
              "        const element = document.querySelector('#df-dbdf8b71-37b8-4ab0-9a2c-aad8033e2e81');\n",
              "        const dataTable =\n",
              "          await google.colab.kernel.invokeFunction('convertToInteractive',\n",
              "                                                    [key], {});\n",
              "        if (!dataTable) return;\n",
              "\n",
              "        const docLinkHtml = 'Like what you see? Visit the ' +\n",
              "          '<a target=\"_blank\" href=https://colab.research.google.com/notebooks/data_table.ipynb>data table notebook</a>'\n",
              "          + ' to learn more about interactive tables.';\n",
              "        element.innerHTML = '';\n",
              "        dataTable['output_type'] = 'display_data';\n",
              "        await google.colab.output.renderOutput(dataTable, element);\n",
              "        const docLink = document.createElement('div');\n",
              "        docLink.innerHTML = docLinkHtml;\n",
              "        element.appendChild(docLink);\n",
              "      }\n",
              "    </script>\n",
              "  </div>\n",
              "\n",
              "\n",
              "    </div>\n",
              "  </div>\n"
            ],
            "application/vnd.google.colaboratory.intrinsic+json": {
              "type": "dataframe",
              "summary": "{\n  \"name\": \"final_df\",\n  \"rows\": 1,\n  \"fields\": [\n    {\n      \"column\": \"Series Title\",\n      \"properties\": {\n        \"dtype\": \"string\",\n        \"num_unique_values\": 1,\n        \"samples\": [\n          \"Claimed and Shamed\"\n        ],\n        \"semantic_type\": \"\",\n        \"description\": \"\"\n      }\n    },\n    {\n      \"column\": \"tags\",\n      \"properties\": {\n        \"dtype\": \"string\",\n        \"num_unique_values\": 1,\n        \"samples\": [\n          \"16+Documentary,CrimeDocumentary series that casts a covert eye over the ever-growing problem of insurance fraud, and sees outlandish claimers as they're caught out on camera.Claimed and Shamed has one or more episodes streaming with subscription on Prime Video, and available for purchase on Prime Video. It's a crime and documentary show with 105 episodes over 10 seasons. Claimed and Shamed is still airing with no announced date for the next episode or season. It has an average IMDb audience rating of 5.7 (20 votes).10SeasonsPrime Video\"\n        ],\n        \"semantic_type\": \"\",\n        \"description\": \"\"\n      }\n    }\n  ]\n}"
            }
          },
          "metadata": {},
          "execution_count": 19
        }
      ]
    },
    {
      "cell_type": "markdown",
      "source": [
        "text formatting"
      ],
      "metadata": {
        "id": "wedVae1S1r52"
      }
    },
    {
      "cell_type": "code",
      "source": [
        "final_df.loc[:,'tags'] = final_df.loc[:,'tags'].apply(lambda x:x.lower())"
      ],
      "metadata": {
        "id": "ScbDbk1LA-Fp"
      },
      "execution_count": null,
      "outputs": []
    },
    {
      "cell_type": "markdown",
      "source": [
        "## language processing to avoid same words"
      ],
      "metadata": {
        "id": "f4ZZFtcc1xoG"
      }
    },
    {
      "cell_type": "code",
      "source": [
        "import nltk\n",
        "from nltk.stem.porter import PorterStemmer\n",
        "ps = PorterStemmer()\n",
        "\n",
        "def helper(text):\n",
        "    y = []\n",
        "    for i in text.split():\n",
        "      y.append(ps.stem(i))\n",
        "    return \" \".join(y)\n",
        "\n",
        "final_df.loc[:,'tags'] = final_df.loc[:,'tags'].apply(helper)\n",
        "final_df['tags'][7]"
      ],
      "metadata": {
        "colab": {
          "base_uri": "https://localhost:8080/",
          "height": 105
        },
        "id": "fIEbAiqMBMaJ",
        "outputId": "f3539dee-ab7c-41aa-e03b-3a1a1f8c0a45"
      },
      "execution_count": null,
      "outputs": [
        {
          "output_type": "execute_result",
          "data": {
            "text/plain": [
              "\"16+action & adventure,crimea modern updat find the famou sleuth and hi doctor partner solv crime in 21st centuri london.sherlock featur benedict cumberbatch and martin freeman ha one or more episod stream with subscript on netflix, avail for purchas on itunes, avail for purchas on googl play, and 3 others. it' an action & adventur and crime show with 13 episod over 4 seasons. sherlock is no longer run and ha no plan to air new episod or seasons. it ha a veri high imdb audienc rate of 9.1 (778,486 votes) and wa well receiv by critics.4seasonsnetflix\""
            ],
            "application/vnd.google.colaboratory.intrinsic+json": {
              "type": "string"
            }
          },
          "metadata": {},
          "execution_count": 20
        }
      ]
    },
    {
      "cell_type": "markdown",
      "source": [
        "# turn text to vectors"
      ],
      "metadata": {
        "id": "-o2AvH2D11uf"
      }
    },
    {
      "cell_type": "code",
      "source": [
        "from sklearn.feature_extraction.text import CountVectorizer\n",
        "cv = CountVectorizer(max_features = 5000, stop_words = 'english')\n",
        "vectors = cv.fit_transform(final_df['tags']).toarray()"
      ],
      "metadata": {
        "id": "FKxKtr50CG36"
      },
      "execution_count": null,
      "outputs": []
    },
    {
      "cell_type": "code",
      "source": [
        "vectors.shape"
      ],
      "metadata": {
        "colab": {
          "base_uri": "https://localhost:8080/"
        },
        "id": "E3V5jvOKDwBT",
        "outputId": "67d9dd02-b0e0-4f66-efe5-76ddbf04f7ab"
      },
      "execution_count": null,
      "outputs": [
        {
          "output_type": "execute_result",
          "data": {
            "text/plain": [
              "(12352, 5000)"
            ]
          },
          "metadata": {},
          "execution_count": 22
        }
      ]
    },
    {
      "cell_type": "code",
      "source": [
        "from sklearn.metrics.pairwise import cosine_similarity\n",
        "similarity = cosine_similarity(vectors)\n",
        "similarity[1]"
      ],
      "metadata": {
        "colab": {
          "base_uri": "https://localhost:8080/"
        },
        "id": "xUVwK65VEDGj",
        "outputId": "d1679d15-5c64-4763-8c39-87fe2c2a5ce0"
      },
      "execution_count": null,
      "outputs": [
        {
          "output_type": "execute_result",
          "data": {
            "text/plain": [
              "array([0.49076178, 1.        , 0.54089185, ..., 0.21936476, 0.2979682 ,\n",
              "       0.27128975])"
            ]
          },
          "metadata": {},
          "execution_count": 23
        }
      ]
    },
    {
      "cell_type": "markdown",
      "source": [
        "change column name"
      ],
      "metadata": {
        "id": "GKr4ZLD816A2"
      }
    },
    {
      "cell_type": "code",
      "source": [
        "final_df.loc[:,'title'] = final_df.loc[:,'Series Title']"
      ],
      "metadata": {
        "colab": {
          "base_uri": "https://localhost:8080/"
        },
        "id": "z1FR_3niGHs0",
        "outputId": "8b0eba3d-2eca-4234-8ba4-4d364b13ca45"
      },
      "execution_count": null,
      "outputs": [
        {
          "output_type": "stream",
          "name": "stderr",
          "text": [
            "<ipython-input-24-3c2921ff5cc4>:1: SettingWithCopyWarning: \n",
            "A value is trying to be set on a copy of a slice from a DataFrame.\n",
            "Try using .loc[row_indexer,col_indexer] = value instead\n",
            "\n",
            "See the caveats in the documentation: https://pandas.pydata.org/pandas-docs/stable/user_guide/indexing.html#returning-a-view-versus-a-copy\n",
            "  final_df.loc[:,'title'] = final_df.loc[:,'Series Title']\n"
          ]
        }
      ]
    },
    {
      "cell_type": "code",
      "source": [
        "final_df.head(1)"
      ],
      "metadata": {
        "colab": {
          "base_uri": "https://localhost:8080/",
          "height": 81
        },
        "id": "nJ_iXShIE2X8",
        "outputId": "2a5a0ef9-0522-4b2a-e2f6-d696580d70dd"
      },
      "execution_count": null,
      "outputs": [
        {
          "output_type": "execute_result",
          "data": {
            "text/plain": [
              "   Series Title                                               tags  \\\n",
              "0  Breaking Bad  18+crime,dramawhen walter white, a new mexico ...   \n",
              "\n",
              "          title  \n",
              "0  Breaking Bad  "
            ],
            "text/html": [
              "\n",
              "  <div id=\"df-70dcdbc0-44b8-4ce8-bb8c-fc9597fa1add\" class=\"colab-df-container\">\n",
              "    <div>\n",
              "<style scoped>\n",
              "    .dataframe tbody tr th:only-of-type {\n",
              "        vertical-align: middle;\n",
              "    }\n",
              "\n",
              "    .dataframe tbody tr th {\n",
              "        vertical-align: top;\n",
              "    }\n",
              "\n",
              "    .dataframe thead th {\n",
              "        text-align: right;\n",
              "    }\n",
              "</style>\n",
              "<table border=\"1\" class=\"dataframe\">\n",
              "  <thead>\n",
              "    <tr style=\"text-align: right;\">\n",
              "      <th></th>\n",
              "      <th>Series Title</th>\n",
              "      <th>tags</th>\n",
              "      <th>title</th>\n",
              "    </tr>\n",
              "  </thead>\n",
              "  <tbody>\n",
              "    <tr>\n",
              "      <th>0</th>\n",
              "      <td>Breaking Bad</td>\n",
              "      <td>18+crime,dramawhen walter white, a new mexico ...</td>\n",
              "      <td>Breaking Bad</td>\n",
              "    </tr>\n",
              "  </tbody>\n",
              "</table>\n",
              "</div>\n",
              "    <div class=\"colab-df-buttons\">\n",
              "\n",
              "  <div class=\"colab-df-container\">\n",
              "    <button class=\"colab-df-convert\" onclick=\"convertToInteractive('df-70dcdbc0-44b8-4ce8-bb8c-fc9597fa1add')\"\n",
              "            title=\"Convert this dataframe to an interactive table.\"\n",
              "            style=\"display:none;\">\n",
              "\n",
              "  <svg xmlns=\"http://www.w3.org/2000/svg\" height=\"24px\" viewBox=\"0 -960 960 960\">\n",
              "    <path d=\"M120-120v-720h720v720H120Zm60-500h600v-160H180v160Zm220 220h160v-160H400v160Zm0 220h160v-160H400v160ZM180-400h160v-160H180v160Zm440 0h160v-160H620v160ZM180-180h160v-160H180v160Zm440 0h160v-160H620v160Z\"/>\n",
              "  </svg>\n",
              "    </button>\n",
              "\n",
              "  <style>\n",
              "    .colab-df-container {\n",
              "      display:flex;\n",
              "      gap: 12px;\n",
              "    }\n",
              "\n",
              "    .colab-df-convert {\n",
              "      background-color: #E8F0FE;\n",
              "      border: none;\n",
              "      border-radius: 50%;\n",
              "      cursor: pointer;\n",
              "      display: none;\n",
              "      fill: #1967D2;\n",
              "      height: 32px;\n",
              "      padding: 0 0 0 0;\n",
              "      width: 32px;\n",
              "    }\n",
              "\n",
              "    .colab-df-convert:hover {\n",
              "      background-color: #E2EBFA;\n",
              "      box-shadow: 0px 1px 2px rgba(60, 64, 67, 0.3), 0px 1px 3px 1px rgba(60, 64, 67, 0.15);\n",
              "      fill: #174EA6;\n",
              "    }\n",
              "\n",
              "    .colab-df-buttons div {\n",
              "      margin-bottom: 4px;\n",
              "    }\n",
              "\n",
              "    [theme=dark] .colab-df-convert {\n",
              "      background-color: #3B4455;\n",
              "      fill: #D2E3FC;\n",
              "    }\n",
              "\n",
              "    [theme=dark] .colab-df-convert:hover {\n",
              "      background-color: #434B5C;\n",
              "      box-shadow: 0px 1px 3px 1px rgba(0, 0, 0, 0.15);\n",
              "      filter: drop-shadow(0px 1px 2px rgba(0, 0, 0, 0.3));\n",
              "      fill: #FFFFFF;\n",
              "    }\n",
              "  </style>\n",
              "\n",
              "    <script>\n",
              "      const buttonEl =\n",
              "        document.querySelector('#df-70dcdbc0-44b8-4ce8-bb8c-fc9597fa1add button.colab-df-convert');\n",
              "      buttonEl.style.display =\n",
              "        google.colab.kernel.accessAllowed ? 'block' : 'none';\n",
              "\n",
              "      async function convertToInteractive(key) {\n",
              "        const element = document.querySelector('#df-70dcdbc0-44b8-4ce8-bb8c-fc9597fa1add');\n",
              "        const dataTable =\n",
              "          await google.colab.kernel.invokeFunction('convertToInteractive',\n",
              "                                                    [key], {});\n",
              "        if (!dataTable) return;\n",
              "\n",
              "        const docLinkHtml = 'Like what you see? Visit the ' +\n",
              "          '<a target=\"_blank\" href=https://colab.research.google.com/notebooks/data_table.ipynb>data table notebook</a>'\n",
              "          + ' to learn more about interactive tables.';\n",
              "        element.innerHTML = '';\n",
              "        dataTable['output_type'] = 'display_data';\n",
              "        await google.colab.output.renderOutput(dataTable, element);\n",
              "        const docLink = document.createElement('div');\n",
              "        docLink.innerHTML = docLinkHtml;\n",
              "        element.appendChild(docLink);\n",
              "      }\n",
              "    </script>\n",
              "  </div>\n",
              "\n",
              "\n",
              "    </div>\n",
              "  </div>\n"
            ],
            "application/vnd.google.colaboratory.intrinsic+json": {
              "type": "dataframe",
              "variable_name": "final_df",
              "summary": "{\n  \"name\": \"final_df\",\n  \"rows\": 12352,\n  \"fields\": [\n    {\n      \"column\": \"Series Title\",\n      \"properties\": {\n        \"dtype\": \"string\",\n        \"num_unique_values\": 12109,\n        \"samples\": [\n          \"Tabula Rasa\",\n          \"Top Chef Duels\",\n          \"Ninja Nonsense\"\n        ],\n        \"semantic_type\": \"\",\n        \"description\": \"\"\n      }\n    },\n    {\n      \"column\": \"tags\",\n      \"properties\": {\n        \"dtype\": \"string\",\n        \"num_unique_values\": 11877,\n        \"samples\": [\n          \"alldocumentary,2013join the legendari \\u2018how it' made' crew as they immers themselv in automobil heaven, and discov how incred machin are design and created. from a maserati to the audi r8, from a morgan aero coup to a porsch 911, the team travel around the world to visit the birthplac of a host of dream cars. each half hour episod will reveal the car' inner work and gorgeou exteriors, which is enhanc with unpreced access to the factori and test lab that are integr to their concept and creation.how it' made: dream car featur toni hirst and brook t. moor ha one or more episod stream with subscript on motor trend (via prime video), avail for purchas on itunes, avail for purchas on googl play, and 3 others. it' a documentari show with 51 episod over 5 seasons. how it' made: dream car is still air with no announc date for the next episod or season. it ha a high imdb audienc rate of 7.7 (180 votes).5seasonsnetflix\",\n          \"16+animation,dramath adventur of a vampir girl, whose destini is to hunt down all stray shinma (demon) and send them back to the darkness.vampir princess miyu ha one or more episod avail for purchas on itunes. it' an anim and drama show with 26 episod over 1 season. vampir princess miyu is no longer run and ha no plan to air new episod or seasons. it ha a better than averag imdb audienc rate of 7.0 (524 votes).1seasonnetflix\",\n          \"16+reality,2012follow some of the most peculiar self-proclaim frugalista as they go to radic length to save money. these extrem penni pincher share their best money save tips, from dumpster dive to excess recycl to strict budgeting.extrem cheapskat ha one or more episod stream via tv everywher with tlc go, stream with subscript on fubotv, avail for purchas on itunes, and 4 others. it' a realiti show with 29 episod over 3 seasons. extrem cheapskat is no longer run and ha no plan to air new episod or seasons. it ha an averag imdb audienc rate of 5.5 (480 votes).3 seasonstlc,fubotv\"\n        ],\n        \"semantic_type\": \"\",\n        \"description\": \"\"\n      }\n    },\n    {\n      \"column\": \"title\",\n      \"properties\": {\n        \"dtype\": \"string\",\n        \"num_unique_values\": 12109,\n        \"samples\": [\n          \"Tabula Rasa\",\n          \"Top Chef Duels\",\n          \"Ninja Nonsense\"\n        ],\n        \"semantic_type\": \"\",\n        \"description\": \"\"\n      }\n    }\n  ]\n}"
            }
          },
          "metadata": {},
          "execution_count": 25
        }
      ]
    },
    {
      "cell_type": "code",
      "source": [
        "final_df.drop('Series Title', axis = 1, inplace = True)"
      ],
      "metadata": {
        "colab": {
          "base_uri": "https://localhost:8080/"
        },
        "id": "m7-g8VT7GS4s",
        "outputId": "001d566a-978e-4ca4-a53f-ebb30972da03"
      },
      "execution_count": null,
      "outputs": [
        {
          "output_type": "stream",
          "name": "stderr",
          "text": [
            "<ipython-input-26-51d584ffbdd3>:1: SettingWithCopyWarning: \n",
            "A value is trying to be set on a copy of a slice from a DataFrame\n",
            "\n",
            "See the caveats in the documentation: https://pandas.pydata.org/pandas-docs/stable/user_guide/indexing.html#returning-a-view-versus-a-copy\n",
            "  final_df.drop('Series Title', axis = 1, inplace = True)\n"
          ]
        }
      ]
    },
    {
      "cell_type": "markdown",
      "source": [
        "# main recommendation function"
      ],
      "metadata": {
        "id": "Tz7PsAQw19Qe"
      }
    },
    {
      "cell_type": "code",
      "source": [
        "def recommend(series):\n",
        "  idx = final_df[final_df['title'] == series].index[0]\n",
        "  distances = similarity[idx]\n",
        "  web_series_list = sorted(list(enumerate(distances)), reverse = True, key = lambda x:x[1])[1:6]\n",
        "  for i in web_series_list:\n",
        "      print(final_df.iloc[i[0]].title)"
      ],
      "metadata": {
        "id": "AFsda_hWEfXD"
      },
      "execution_count": null,
      "outputs": []
    },
    {
      "cell_type": "code",
      "source": [
        "recommend('Breaking Bad')"
      ],
      "metadata": {
        "colab": {
          "base_uri": "https://localhost:8080/"
        },
        "id": "Ewrub3tDGAfP",
        "outputId": "e803e362-e54c-4b57-d649-8807ba9b5f1a"
      },
      "execution_count": null,
      "outputs": [
        {
          "output_type": "stream",
          "name": "stdout",
          "text": [
            "Broadchurch\n",
            "American Crime\n",
            "Marvel's Daredevil\n",
            "Power\n",
            "Waco\n"
          ]
        }
      ]
    },
    {
      "cell_type": "code",
      "source": [
        "final_df.sample(1)"
      ],
      "metadata": {
        "colab": {
          "base_uri": "https://localhost:8080/",
          "height": 81
        },
        "id": "WAgovb55GeXU",
        "outputId": "93f6aa34-192d-4a09-87db-700514036f29"
      },
      "execution_count": null,
      "outputs": [
        {
          "output_type": "execute_result",
          "data": {
            "text/plain": [
              "                                                   tags                 title\n",
              "4684  16+crime,documentaryspine-tingl crime that tak...  Your Worst Nightmare"
            ],
            "text/html": [
              "\n",
              "  <div id=\"df-fc860929-d4b5-4a32-ae79-33943fba00c5\" class=\"colab-df-container\">\n",
              "    <div>\n",
              "<style scoped>\n",
              "    .dataframe tbody tr th:only-of-type {\n",
              "        vertical-align: middle;\n",
              "    }\n",
              "\n",
              "    .dataframe tbody tr th {\n",
              "        vertical-align: top;\n",
              "    }\n",
              "\n",
              "    .dataframe thead th {\n",
              "        text-align: right;\n",
              "    }\n",
              "</style>\n",
              "<table border=\"1\" class=\"dataframe\">\n",
              "  <thead>\n",
              "    <tr style=\"text-align: right;\">\n",
              "      <th></th>\n",
              "      <th>tags</th>\n",
              "      <th>title</th>\n",
              "    </tr>\n",
              "  </thead>\n",
              "  <tbody>\n",
              "    <tr>\n",
              "      <th>4684</th>\n",
              "      <td>16+crime,documentaryspine-tingl crime that tak...</td>\n",
              "      <td>Your Worst Nightmare</td>\n",
              "    </tr>\n",
              "  </tbody>\n",
              "</table>\n",
              "</div>\n",
              "    <div class=\"colab-df-buttons\">\n",
              "\n",
              "  <div class=\"colab-df-container\">\n",
              "    <button class=\"colab-df-convert\" onclick=\"convertToInteractive('df-fc860929-d4b5-4a32-ae79-33943fba00c5')\"\n",
              "            title=\"Convert this dataframe to an interactive table.\"\n",
              "            style=\"display:none;\">\n",
              "\n",
              "  <svg xmlns=\"http://www.w3.org/2000/svg\" height=\"24px\" viewBox=\"0 -960 960 960\">\n",
              "    <path d=\"M120-120v-720h720v720H120Zm60-500h600v-160H180v160Zm220 220h160v-160H400v160Zm0 220h160v-160H400v160ZM180-400h160v-160H180v160Zm440 0h160v-160H620v160ZM180-180h160v-160H180v160Zm440 0h160v-160H620v160Z\"/>\n",
              "  </svg>\n",
              "    </button>\n",
              "\n",
              "  <style>\n",
              "    .colab-df-container {\n",
              "      display:flex;\n",
              "      gap: 12px;\n",
              "    }\n",
              "\n",
              "    .colab-df-convert {\n",
              "      background-color: #E8F0FE;\n",
              "      border: none;\n",
              "      border-radius: 50%;\n",
              "      cursor: pointer;\n",
              "      display: none;\n",
              "      fill: #1967D2;\n",
              "      height: 32px;\n",
              "      padding: 0 0 0 0;\n",
              "      width: 32px;\n",
              "    }\n",
              "\n",
              "    .colab-df-convert:hover {\n",
              "      background-color: #E2EBFA;\n",
              "      box-shadow: 0px 1px 2px rgba(60, 64, 67, 0.3), 0px 1px 3px 1px rgba(60, 64, 67, 0.15);\n",
              "      fill: #174EA6;\n",
              "    }\n",
              "\n",
              "    .colab-df-buttons div {\n",
              "      margin-bottom: 4px;\n",
              "    }\n",
              "\n",
              "    [theme=dark] .colab-df-convert {\n",
              "      background-color: #3B4455;\n",
              "      fill: #D2E3FC;\n",
              "    }\n",
              "\n",
              "    [theme=dark] .colab-df-convert:hover {\n",
              "      background-color: #434B5C;\n",
              "      box-shadow: 0px 1px 3px 1px rgba(0, 0, 0, 0.15);\n",
              "      filter: drop-shadow(0px 1px 2px rgba(0, 0, 0, 0.3));\n",
              "      fill: #FFFFFF;\n",
              "    }\n",
              "  </style>\n",
              "\n",
              "    <script>\n",
              "      const buttonEl =\n",
              "        document.querySelector('#df-fc860929-d4b5-4a32-ae79-33943fba00c5 button.colab-df-convert');\n",
              "      buttonEl.style.display =\n",
              "        google.colab.kernel.accessAllowed ? 'block' : 'none';\n",
              "\n",
              "      async function convertToInteractive(key) {\n",
              "        const element = document.querySelector('#df-fc860929-d4b5-4a32-ae79-33943fba00c5');\n",
              "        const dataTable =\n",
              "          await google.colab.kernel.invokeFunction('convertToInteractive',\n",
              "                                                    [key], {});\n",
              "        if (!dataTable) return;\n",
              "\n",
              "        const docLinkHtml = 'Like what you see? Visit the ' +\n",
              "          '<a target=\"_blank\" href=https://colab.research.google.com/notebooks/data_table.ipynb>data table notebook</a>'\n",
              "          + ' to learn more about interactive tables.';\n",
              "        element.innerHTML = '';\n",
              "        dataTable['output_type'] = 'display_data';\n",
              "        await google.colab.output.renderOutput(dataTable, element);\n",
              "        const docLink = document.createElement('div');\n",
              "        docLink.innerHTML = docLinkHtml;\n",
              "        element.appendChild(docLink);\n",
              "      }\n",
              "    </script>\n",
              "  </div>\n",
              "\n",
              "\n",
              "    </div>\n",
              "  </div>\n"
            ],
            "application/vnd.google.colaboratory.intrinsic+json": {
              "type": "dataframe",
              "summary": "{\n  \"name\": \"final_df\",\n  \"rows\": 1,\n  \"fields\": [\n    {\n      \"column\": \"tags\",\n      \"properties\": {\n        \"dtype\": \"string\",\n        \"num_unique_values\": 1,\n        \"samples\": [\n          \"16+crime,documentaryspine-tingl crime that take viewer on a ride of twist and turns, complet with jump-out-of-their-seat moment and chill conclusions. thi show use classic suspens film techniqu to follow some of the creepiest, most harrow crime ever committed, as these victims' darkest dream becom unfathom realities.your worst nightmar ha one or more episod stream with subscript on hulu, stream via tv everywher with investig discovery, stream with subscript on true crime file (via prime video), and 6 others. it' a crime and documentari show with 57 episod over 6 seasons. your worst nightmar ha a new episod air on septemb 20th, 2020 (pdt). it ha a better than averag imdb audienc rate of 7.0 (477 votes).6 seasonshulu,fubotv\"\n        ],\n        \"semantic_type\": \"\",\n        \"description\": \"\"\n      }\n    },\n    {\n      \"column\": \"title\",\n      \"properties\": {\n        \"dtype\": \"string\",\n        \"num_unique_values\": 1,\n        \"samples\": [\n          \"Your Worst Nightmare\"\n        ],\n        \"semantic_type\": \"\",\n        \"description\": \"\"\n      }\n    }\n  ]\n}"
            }
          },
          "metadata": {},
          "execution_count": 29
        }
      ]
    },
    {
      "cell_type": "code",
      "source": [
        "series['Genre'].unique()"
      ],
      "metadata": {
        "colab": {
          "base_uri": "https://localhost:8080/"
        },
        "id": "8TjfkqBZdUt3",
        "outputId": "57d43ec3-a90a-4f04-b678-86e0f25b6d7f"
      },
      "execution_count": null,
      "outputs": [
        {
          "output_type": "execute_result",
          "data": {
            "text/plain": [
              "array(['Crime,Drama', 'Action & Adventure,Drama', 'Animation,Comedy',\n",
              "       'Drama,Fantasy', 'Action & Adventure,Comedy', 'Drama,History',\n",
              "       'Action & Adventure,Crime', 'Action & Adventure,Animation',\n",
              "       'Comedy,Romance', 'Comedy,2005', 'Comedy,Crime',\n",
              "       'Action & Adventure,Anime', 'Drama,Science-Fiction',\n",
              "       'Drama,Mystery', 'Fantasy,Crime', 'Thriller,Action & Adventure',\n",
              "       'Drama,Thriller', 'Action & Adventure,Science-Fiction',\n",
              "       'Drama,Horror', 'Comedy,LGBTQ', 'Comedy,2009', 'Drama,2007',\n",
              "       'Comedy,Drama', 'Drama,Comedy', 'Documentary,Biography',\n",
              "       'Comedy,Stand-up & Talk', 'Horror,Drama',\n",
              "       'Drama,Action & Adventure', 'Drama,Romance', 'Drama,Sport',\n",
              "       'Thriller,Biography', 'Science-Fiction,Animation', 'Comedy,2003',\n",
              "       'Action & Adventure,Thriller', 'Thriller,LGBTQ', 'Comedy,2014',\n",
              "       'Drama,2018', 'Drama,LGBTQ', 'Drama,Crime',\n",
              "       'Action & Adventure,Fantasy', 'Comedy,2000', 'Biography,Drama',\n",
              "       'Action & Adventure,History', 'Horror,Thriller', 'Comedy,2006',\n",
              "       'Documentary,2016', 'Comedy,Fantasy', 'Drama,2016', 'Drama,1999',\n",
              "       'Animation,Science-Fiction', 'Fantasy,Science-Fiction',\n",
              "       'Comedy,2015', 'Comedy,2011', 'Thriller,Crime', 'Animation,Anime',\n",
              "       'Comedy,Family', 'Comedy,Musical', 'Mystery,Science-Fiction',\n",
              "       'Horror,Comedy', 'Comedy,Action & Adventure', 'Documentary,Crime',\n",
              "       'Drama,2020', 'Comedy,Mystery', 'Documentary,2019',\n",
              "       'Animation,Children', 'Mystery,Comedy', 'Comedy,Horror',\n",
              "       'Comedy,1993', 'Comedy,2012', 'Mystery,Drama', 'Drama,2012',\n",
              "       'Science-Fiction,Action & Adventure', 'Comedy,1975', 'Drama,2014',\n",
              "       'Animation,Action & Adventure', 'Comedy,Travel', 'Drama,Family',\n",
              "       'Documentary,History', 'Documentary,2014',\n",
              "       'Action & Adventure,Mystery', 'Reality,LGBTQ', 'Comedy,1969',\n",
              "       'Comedy,Animation', 'Comedy,Documentary', 'Comedy,Science-Fiction',\n",
              "       'Drama,2017', 'Drama,2010', 'Comedy,1995', 'Biography,Crime',\n",
              "       'Drama,Documentary', 'Fantasy,Horror', 'Documentary,Cult',\n",
              "       'Comedy,Sport', 'Comedy,2008', 'Drama,2013', 'Thriller,Drama',\n",
              "       'Comedy,2018', 'Fantasy,Action & Adventure', 'Documentary,2017',\n",
              "       'Documentary,Comedy', 'Documentary,Food', 'Drama,Biography',\n",
              "       'Crime,Documentary', 'Documentary,2006', 'Comedy,2020',\n",
              "       'Crime,Cult', 'Reality,Drama', 'Documentary,2020', 'Crime,Mystery',\n",
              "       'Documentary,2018', 'Drama,2019', 'Documentary,Travel',\n",
              "       'Musical,Comedy', 'Documentary,Reality', 'Comedy,1992',\n",
              "       'Comedy,2019', 'Crime,Thriller', 'Comedy,2016', 'Comedy,1998',\n",
              "       'Drama,2003', 'Action & Adventure,LGBTQ', 'Documentary,Sport',\n",
              "       'Drama,2015', 'Horror,Mystery', 'Biography,Comedy', 'Comedy,1987',\n",
              "       'Drama,Musical', 'Children,Comedy', 'Drama,2011', 'Comedy,2013',\n",
              "       'Children,Drama', 'Comedy,1996', 'Reality,Action & Adventure',\n",
              "       'Animation,Romance', 'Drama,2008', 'Comedy,Game Show',\n",
              "       'Comedy,Anime', 'Documentary,Drama', 'Comedy,1983', 'Comedy,2017',\n",
              "       'Romance,Drama', 'History,Biography', 'Mystery,Thriller',\n",
              "       'Science-Fiction,Drama', 'Family,Comedy', 'Children,Animation',\n",
              "       'Family,Drama', 'Comedy,Biography', 'History,Drama',\n",
              "       'Game Show,LGBTQ', 'Reality,Game Show', 'Fantasy,Romance',\n",
              "       'Comedy,1981', 'Sport,Documentary', 'Comedy,1965',\n",
              "       'Action & Adventure,Reality', 'Drama,2006', 'Reality,Sport',\n",
              "       'Comedy,Reality', 'Reality,Food', 'Game Show,Reality',\n",
              "       'Crime,Horror', 'Fantasy,Children', 'Drama,Anime',\n",
              "       'Fantasy,Animation', 'Animation,Drama', 'Drama,Cult',\n",
              "       'Action & Adventure,Cult', 'Action & Adventure,Documentary',\n",
              "       'Action & Adventure,Children', '2018,Netflix',\n",
              "       'Reality,Documentary', 'Comedy,1990', 'Romance,Reality',\n",
              "       'Comedy,1997', 'Fantasy,Drama', 'Reality,2020', 'Fantasy,Anime',\n",
              "       'Documentary,2001', 'Drama,2005', 'Action & Adventure,1955',\n",
              "       'Documentary,Family', 'Documentary,Home & Garden',\n",
              "       'Fantasy,Mystery', 'Comedy,History', 'Reality,Family',\n",
              "       'Documentary,Action & Adventure', 'Documentary,2009',\n",
              "       'Documentary,2010', 'Reality,2012', 'Reality,2011',\n",
              "       'Documentary,2015', 'Mystery,Biography', 'Comedy,1984',\n",
              "       'Documentary,LGBTQ', 'Documentary,1974', 'Animation,Family',\n",
              "       'Romance,Action & Adventure', 'Documentary,2011', 'Comedy,2002',\n",
              "       'Science-Fiction,Fantasy', 'Comedy,2010', 'Game Show,1964',\n",
              "       'Comedy,1980', 'Crime,Reality', 'Action & Adventure,Sport',\n",
              "       'Reality,2016', 'Science-Fiction,Thriller', 'Comedy,1978',\n",
              "       'Drama,Stand-up & Talk', 'Comedy,1977', 'Animation,Fantasy',\n",
              "       'Children,Family', 'Comedy,2004', 'Comedy,1994',\n",
              "       'Food,Documentary', 'Documentary,Game Show',\n",
              "       'Comedy,Home & Garden', 'Children,Fantasy',\n",
              "       'Science-Fiction,Mystery', 'Documentary,2003', 'Drama,1976',\n",
              "       'Documentary,Animation', 'Romance,Anime', 'Drama,1990',\n",
              "       'Comedy,2001', 'Documentary,Science-Fiction', 'Reality,2019',\n",
              "       'Documentary,2013', 'Children,Documentary', 'Reality,2014',\n",
              "       'Comedy,1972', 'Family,Fantasy', 'Comedy,1982', 'Comedy,1970',\n",
              "       'Comedy,1989', 'Action & Adventure,Family', 'Reality,Romance',\n",
              "       'Mystery,Crime', 'Reality,Thriller', 'Reality,Horror',\n",
              "       'Action & Adventure,Romance', 'Home & Garden,Reality',\n",
              "       'Crime,Stand-up & Talk', 'Reality,2013', 'Horror,Science-Fiction',\n",
              "       'Comedy,1985', 'Sport,Drama', 'Drama,Children',\n",
              "       'Family,Documentary', 'Thriller,Science-Fiction', 'Comedy,2007',\n",
              "       'Thriller,Anime', 'Crime,Fantasy', 'Documentary,Horror',\n",
              "       'Sport,Anime', 'Reality,Travel', 'Reality,2008',\n",
              "       'Science-Fiction,Horror', 'Action & Adventure,1981',\n",
              "       'Reality,Comedy', 'Crime,LGBTQ', 'Family,Reality', 'Travel,Food',\n",
              "       'Action & Adventure,Food', 'Comedy,1986', 'Comedy,1999',\n",
              "       'Drama,1998', 'Action & Adventure,Horror', 'Documentary,1968',\n",
              "       'Comedy,1991', 'Documentary,1992', 'Documentary,Fantasy',\n",
              "       'Reality,2018', 'Food,2016', 'Documentary,Mystery', 'Reality,2007',\n",
              "       'Children,Action & Adventure', 'Action & Adventure,Game Show',\n",
              "       'Drama,Food', 'Comedy,1976', 'Action & Adventure,1949',\n",
              "       'History,Documentary', 'Reality,Home & Garden', 'Documentary,1983',\n",
              "       'Biography,History', 'Food,Reality', 'Drama,2009',\n",
              "       'Horror,Documentary', 'Family,Food', 'Food,Game Show',\n",
              "       'Romance,Comedy', 'Comedy,Cult', 'Drama,Reality', 'Comedy,1979',\n",
              "       'Documentary,Romance', 'Game Show,Horror', 'Horror,Anime',\n",
              "       'Game Show,Family', 'Documentary,1978',\n",
              "       'Family,Action & Adventure', 'Mystery,2020', 'Reality,2015',\n",
              "       'Comedy,Children', 'Action & Adventure,1971', 'Game Show,Comedy',\n",
              "       '1958,Free Services', 'Sport,Reality', 'Comedy,1988',\n",
              "       'Family,Game Show', 'Documentary,2004', 'Comedy,1962',\n",
              "       'Comedy,1968', 'Reality,Mystery', 'Comedy,1950', 'Reality,Musical',\n",
              "       'Family,2020', 'Family,Animation', 'Sport,Action & Adventure',\n",
              "       'Reality,Crime', 'Comedy,1963', 'Reality,2009', 'Fantasy,Thriller',\n",
              "       'Action & Adventure,Biography', 'Comedy,1966', 'Reality,2004',\n",
              "       'Thriller,Mystery', 'Animation,LGBTQ', 'Anime,Animation',\n",
              "       'Game Show,Action & Adventure', 'Drama,1986',\n",
              "       'Animation,Documentary', 'Action & Adventure,2020',\n",
              "       'Documentary,2012', 'Romance,2010', '1965,Starz',\n",
              "       '1957,Free Services', 'Musical,Family', 'Drama,2004',\n",
              "       'Documentary,1988', '2008,Free Services', 'Children,Game Show',\n",
              "       'Drama,1959', 'Game Show,2010', 'Reality,2006', 'Drama,1994',\n",
              "       'Animation,Game Show', 'Food,Travel', 'Family,Home & Garden',\n",
              "       'Reality,2010', 'Documentary,2008', 'Horror,Fantasy',\n",
              "       'Game Show,2006', 'Mystery,Animation', 'Crime,Anime',\n",
              "       'Action & Adventure,Travel', 'Animation,Horror', 'Musical,2018',\n",
              "       'Fantasy,Comedy', 'Comedy,Food', 'Crime,History', 'Game Show,2009',\n",
              "       'Home & Garden,2019', 'Comedy,1961', 'Science-Fiction,Crime',\n",
              "       '2013,Free Services', 'Drama,1995', 'Reality,2017',\n",
              "       'Reality,Anime', 'Fantasy,Game Show', 'Drama,1977', 'Comedy,1967',\n",
              "       'Food,Home & Garden', 'Game Show,2013', 'Documentary,2007',\n",
              "       'Family,Children', 'Sport,2019', 'Family,Science-Fiction',\n",
              "       'Documentary,Musical', '1958,Prime Video',\n",
              "       'Action & Adventure,1993', 'Drama,1988', 'Game Show,2008',\n",
              "       '2015,Prime Video', 'Drama,1996', 'Drama,Animation',\n",
              "       'Animation,2020', 'Reality,2005', 'Drama,2000',\n",
              "       'Crime,Action & Adventure', '2015,Netflix', 'Animation,2009',\n",
              "       'Game Show,2017', 'Action & Adventure,1951', 'Home & Garden,2020',\n",
              "       'Animation,2005', '2017,Prime Video', '1968,Free Services',\n",
              "       '2008,Netflix', 'Documentary,1901', 'Animation,2010',\n",
              "       '2019,Netflix', 'Comedy,1949', '2000,Free Services',\n",
              "       'Animation,Sport', 'Documentary,1980', 'Documentary,2005',\n",
              "       'Food,2011', '2018,HBO MAX', 'History,Crime', 'Family,2017',\n",
              "       'Documentary,1999', 'Home & Garden,2014', 'Drama,1969',\n",
              "       'Reality,Fantasy', 'Action & Adventure,1950',\n",
              "       'Action & Adventure,1952', 'Science-Fiction,Children',\n",
              "       'Travel,Documentary', 'Documentary,1989', '2020,Prime Video',\n",
              "       'Musical,Reality', 'Children,Crime', 'Reality,2000',\n",
              "       'Romance,Fantasy', '2013,Prime Video', 'Horror,Crime',\n",
              "       'Sport,1995', 'Animation,2018', 'Thriller,2017',\n",
              "       '2018,Free Services', 'Romance,2007', 'Food,Family', 'Drama,2002',\n",
              "       'Game Show,2018', 'Animation,2013', 'Family,2014',\n",
              "       'Thriller,Horror', 'History,Horror', '1991,Hulu',\n",
              "       'Documentary,1981', '-1', 'Drama,1997', 'Game Show,2020',\n",
              "       'Documentary,Children', 'Comedy,Thriller', 'Crime,2019',\n",
              "       'Drama,1974', 'Action & Adventure,2013', 'Sport,1977',\n",
              "       'Drama,1993', 'Animation,Crime', 'Game Show,Romance',\n",
              "       'Action & Adventure,1966', '1959,Free Services',\n",
              "       'Mystery,Action & Adventure', 'Mystery,History', 'Drama,1954',\n",
              "       'Game Show,2014', 'Reality,1999', 'Crime,2017', 'Drama,1992',\n",
              "       'Crime,Science-Fiction', 'Drama,1989', 'History,2018',\n",
              "       'Thriller,Documentary', '1952,Free Services', 'Romance,2018',\n",
              "       'Drama,1948', '1998,Free Services', '2012,Free Services',\n",
              "       'Crime,2016', '2018,Hulu', 'Game Show,2019', '2016,Free Services',\n",
              "       'Action & Adventure,1991', '2014,Prime Video', 'Food,Comedy',\n",
              "       'Documentary,Anime', 'Comedy,1957', '2011,Free Services',\n",
              "       'Mystery,Documentary', 'Musical,1976', 'Biography,2014',\n",
              "       'Animation,Thriller', '1947,Free Services', 'Home & Garden,2009',\n",
              "       'Reality,2003', 'Documentary,2002', 'Fantasy,Reality',\n",
              "       '1983,Free Services', 'Animation,Reality', '2017,Viceland',\n",
              "       'Sport,Game Show', '2015,Hulu', 'Comedy,1953', 'Sport,2005',\n",
              "       'Reality,History', '2015,Free Services', 'Reality,Stand-up & Talk',\n",
              "       '2010,CBS All Access', 'Game Show,1979', 'Game Show,1980',\n",
              "       'Sport,2011', '2020,Disney+', '1975,Hulu', '1997,Free Services',\n",
              "       'Action & Adventure,1956', '2005,Free Services',\n",
              "       'Biography,Documentary', 'Thriller,2015', 'Animation,2012',\n",
              "       'Comedy,1974', 'Animation,1996', 'Food,2013', 'Animation,2004',\n",
              "       '2017,Free Services', 'Drama,1975', 'Reality,1956', '1979,BritBox',\n",
              "       'Action & Adventure,2016', '2018,History', 'History,2008',\n",
              "       'Sport,2016', 'Drama,1966', '2017,Netflix',\n",
              "       'Science-Fiction,Reality', '2019,Apple TV+', 'Children,2020',\n",
              "       '2019,Prime Video', '2017,Hulu', 'Animation,2015', 'Romance,2013',\n",
              "       'Home & Garden,1981', '2009,fuboTV', '2002,Starz',\n",
              "       'Game Show,2003', '2018,DC Universe', '2018,Hoopla',\n",
              "       'Science-Fiction,1998', 'Reality,Children', 'Drama,1957',\n",
              "       'Travel,2015', 'Game Show,2016', 'Animation,2016', 'Sport,2007',\n",
              "       'Animation,2008', 'Home & Garden,Documentary', 'Drama,2001',\n",
              "       '2019,Disney+', 'Food,2017', '1967,Free Services',\n",
              "       '2019,Free Services', 'Romance,2016', '2017,BritBox', '2014,Hulu',\n",
              "       'Sport,1970', '2016,fuboTV', 'Food,2015', 'Documentary,1993',\n",
              "       '2011,Hulu', 'Fantasy,2014', 'Action & Adventure,2018',\n",
              "       'Travel,Reality', 'Romance,Sport', 'Documentary,2000',\n",
              "       '2016,AcornTV', 'Game Show,Food', '2012,fuboTV', '2016,AMC',\n",
              "       'Fantasy,2018', '1996,Hulu', 'Documentary,1949', 'Food,2018',\n",
              "       'Mystery,Reality', 'Action & Adventure,2005', '2017,BET',\n",
              "       'Musical,2014', '2016,Prime Video', 'Crime,2014', 'Reality,1989',\n",
              "       'Musical,Documentary', 'Animation,2011', 'Documentary,1991',\n",
              "       'Family,2016', 'Crime,2004', '1981,Hulu', 'Crime,Animation',\n",
              "       'Crime,Comedy', '1956,Free Services', '2000,Prime Video',\n",
              "       'Mystery,Horror', 'Children,Reality', 'Home & Garden,2016',\n",
              "       'Home & Garden,Food', 'Documentary,1954', 'Family,2012',\n",
              "       'Sport,2006', 'Reality,Science-Fiction', '2013,TLC',\n",
              "       '2020,HBO MAX', 'Children,Science-Fiction', '1960,Free Services',\n",
              "       'Family,2019', '2013,Cinemax', 'Animation,2019',\n",
              "       'Home & Garden,2002', '2011,fuboTV', 'Food,2019', '2010,Pet',\n",
              "       'Mystery,2019', 'Game Show,2011', 'Children,2006',\n",
              "       'Game Show,Home & Garden', 'Crime,2018', '2002,Prime Video',\n",
              "       '2020,Free Services', 'Game Show,Sport', 'Mystery,2012',\n",
              "       'Biography,2009', 'Game Show,History', 'Animation,Musical',\n",
              "       '2014,Free Services', '2017,Hoopla', '2020,Apple TV+',\n",
              "       'Animation,2007', '2019,Science', '2018,Prime Video', 'Crime,2010',\n",
              "       '2018,fuboTV', '2017,TLC', 'Documentary,1997',\n",
              "       'Home & Garden,2013', '2011,Prime Video', 'Food,2012',\n",
              "       'History,2015', 'Sport,2014', 'Science-Fiction,2017', 'Sport,2004',\n",
              "       '2011,Netflix', '2015,TLC', '2012,Hulu', 'Animation,Mystery',\n",
              "       '2009,TLC', 'Family,2018', '2015,HBO MAX', '2002,Hulu',\n",
              "       'Crime,2013', 'Action & Adventure,2019', '2016,Netflix',\n",
              "       'Action & Adventure,2014', '2007,Free Services', 'Horror,2016',\n",
              "       'Action & Adventure,2015', 'Sport,2015', 'Family,2015',\n",
              "       'Sport,2013', 'Animation,2017', '2019,Hulu', 'Documentary,1998',\n",
              "       '2003,Prime Video', '2020,NatGeo', '2009,MTV', '1931,Hulu',\n",
              "       '2011,Funimation', 'History,2016', 'Fantasy,2015', '2007,Hulu',\n",
              "       '2006,Hoopla', '2017,fuboTV', 'Family,1999', '2019,fuboTV',\n",
              "       'Food,1998', '2012,HBO MAX', '2017,Disney', 'History,2014',\n",
              "       '2008,Prime Video', '1994,Prime Video', '2010,Free Services',\n",
              "       '2010,Netflix', '2016,TLC', 'Musical,2011', 'Home & Garden,2010',\n",
              "       '2012,BritBox', 'Drama,1981', '2017,Science', '2016,Hulu',\n",
              "       'Family,2013', 'Crime,2015', 'Family,2004', 'Horror,2017',\n",
              "       '2013,Hulu', '2015,fuboTV', 'Animation,2014',\n",
              "       'Action & Adventure,2008', 'Romance,2009', '1992,Free Services',\n",
              "       'Home & Garden,2012', 'Home & Garden,2006', '2010,MTV',\n",
              "       '2009,Free Services', 'Romance,2015', 'Animation,1965',\n",
              "       '2014,HBO MAX', '2016,Food Network', 'Home & Garden,2007',\n",
              "       'Home & Garden,2015', 'Family,2011', '2003,Hulu', '2014,Netflix',\n",
              "       '2013,Netflix', 'Home & Garden,2018', 'Science-Fiction,2014',\n",
              "       '2017,Lifetime', '2004,Prime Video', '1997,Disney+', '2014,fuboTV',\n",
              "       'Travel,Action & Adventure', '2014,BritBox', '2006,Prime Video',\n",
              "       'Romance,2011', '2005,Starz', 'Science-Fiction,2019',\n",
              "       '2012,Disney+', '2006,Free Services', 'Animation,2006',\n",
              "       '2018,Disney+', '2013,fuboTV', '2018,Science',\n",
              "       '1986,Free Services', '2010,Prime Video', '1901,Free Services',\n",
              "       '1960,Hulu', '1995,Hoopla', '2018,TLC', '2018,FOX', '1997,Hulu',\n",
              "       '2012,Prime Video', '2016,Disney+', '1977,Prime Video',\n",
              "       '1970,Prime Video', '2010,Hulu', '2011,Hoopla', '2018,Showtime',\n",
              "       'Biography,Reality', '1950,Hoopla', '2016,Hoopla', '2009,Netflix',\n",
              "       '1904,Prime Video', '1999,Hulu', '1963,Free Services', '2020,Hulu',\n",
              "       '1948,Prime Video', '1945,Prime Video', 'Animation,1943',\n",
              "       '1995,Free Services', '1994,AcornTV', '2014,Science', '2018,HBO',\n",
              "       '1973,fuboTV', '2019,HBO MAX', 'Biography,2013', '2012,Netflix',\n",
              "       '2015,FOX', '1996,Free Services', '2001,Prime Video',\n",
              "       '1996,Prime Video', '1960,Prime Video', '1961,Prime Video',\n",
              "       '2015,Showtime', '1983,Prime Video', '2012,Starz', '1993,BritBox',\n",
              "       '2004,Free Services', '2003,AcornTV', '2009,Prime Video',\n",
              "       '2017,CBS All Access', 'Drama,1947', '2006,Hulu',\n",
              "       '1994,Free Services', '2019,BritBox', '2017,HBO', '2007,FOX',\n",
              "       '1978,Free Services', '2007,Prime Video', '2006,HBO MAX',\n",
              "       '2011,Starz', 'Animation,2001', '2014,MTV', '2015,AcornTV',\n",
              "       '2017,DIY', '2018,AMC', '2016,HBO MAX', '2019,AcornTV',\n",
              "       '2002,Free Services', '2017,Comedy Central', '2017,AcornTV',\n",
              "       '1990,Prime Video', '2014,Starz', '1986,Prime Video',\n",
              "       '2017,HBO MAX', '2004,Netflix', '2018,NatGeo',\n",
              "       '2001,Free Services', '2015,HGTV', '1981,Free Services',\n",
              "       '2009,Comedy Central', '1995,Hulu', '2015,Starz', '2017,Disney+',\n",
              "       '2005,Prime Video', '2015,HBO', '1989,Prime Video', '2016,FOX',\n",
              "       '2006,AcornTV', '2006,TLC', 'Musical,2012', '1990,Starz',\n",
              "       '2016,BET', '1984,Prime Video', '2016,DIY', '1997,Prime Video',\n",
              "       'Sport,2008', 'Animation,2000', '2017,Bravo', '2012,Hoopla',\n",
              "       'Documentary,1990', '1999,Free Services', '2014,AcornTV',\n",
              "       '2008,HBO MAX', '2003,Free Services', '1998,Prime Video',\n",
              "       '2006,VH1', 'Food,2008', '2000,Hulu', '2017,A&E',\n",
              "       '2016,Comedy Central', '2016,Starz', 'Children,2016', 'Sport,2018',\n",
              "       '2016,CBS All Access', '2017,History', '2017,Food Network',\n",
              "       '2014,BET+', '2010,TLC', '2017,Starz', 'Action & Adventure,2017',\n",
              "       '2012,Comedy Central', '2008,Hulu', 'History,Mystery',\n",
              "       '2016,Science', 'Sport,2010', '2017,FOX', '2017,Travel Channel',\n",
              "       '2012,TLC', '2015,BET+', '2016,BET+', '2015,FYI'], dtype=object)"
            ]
          },
          "metadata": {},
          "execution_count": 37
        }
      ]
    },
    {
      "cell_type": "code",
      "source": [
        "series[series['Genre'] == 'Thriller,Biography']['Series Title'].values"
      ],
      "metadata": {
        "colab": {
          "base_uri": "https://localhost:8080/"
        },
        "id": "S0Ud_ysCaZK3",
        "outputId": "16fd0c06-33ff-4a89-97b7-163b583757ef"
      },
      "execution_count": null,
      "outputs": [
        {
          "output_type": "execute_result",
          "data": {
            "text/plain": [
              "array(['When They See Us'], dtype=object)"
            ]
          },
          "metadata": {},
          "execution_count": 39
        }
      ]
    },
    {
      "cell_type": "code",
      "source": [
        "import pickle\n",
        "pickle.dump(final_df, open('model.pkl','wb'))"
      ],
      "metadata": {
        "id": "gA_NNzGnaiU-"
      },
      "execution_count": null,
      "outputs": []
    },
    {
      "cell_type": "code",
      "source": [
        "from google.colab import files\n",
        "files.download(\"model.pkl\")"
      ],
      "metadata": {
        "colab": {
          "base_uri": "https://localhost:8080/",
          "height": 17
        },
        "id": "iXyQ5BbXICEi",
        "outputId": "7fa9779d-831f-47d2-de34-84a9ed5aa0d6"
      },
      "execution_count": null,
      "outputs": [
        {
          "output_type": "display_data",
          "data": {
            "text/plain": [
              "<IPython.core.display.Javascript object>"
            ],
            "application/javascript": [
              "\n",
              "    async function download(id, filename, size) {\n",
              "      if (!google.colab.kernel.accessAllowed) {\n",
              "        return;\n",
              "      }\n",
              "      const div = document.createElement('div');\n",
              "      const label = document.createElement('label');\n",
              "      label.textContent = `Downloading \"${filename}\": `;\n",
              "      div.appendChild(label);\n",
              "      const progress = document.createElement('progress');\n",
              "      progress.max = size;\n",
              "      div.appendChild(progress);\n",
              "      document.body.appendChild(div);\n",
              "\n",
              "      const buffers = [];\n",
              "      let downloaded = 0;\n",
              "\n",
              "      const channel = await google.colab.kernel.comms.open(id);\n",
              "      // Send a message to notify the kernel that we're ready.\n",
              "      channel.send({})\n",
              "\n",
              "      for await (const message of channel.messages) {\n",
              "        // Send a message to notify the kernel that we're ready.\n",
              "        channel.send({})\n",
              "        if (message.buffers) {\n",
              "          for (const buffer of message.buffers) {\n",
              "            buffers.push(buffer);\n",
              "            downloaded += buffer.byteLength;\n",
              "            progress.value = downloaded;\n",
              "          }\n",
              "        }\n",
              "      }\n",
              "      const blob = new Blob(buffers, {type: 'application/binary'});\n",
              "      const a = document.createElement('a');\n",
              "      a.href = window.URL.createObjectURL(blob);\n",
              "      a.download = filename;\n",
              "      div.appendChild(a);\n",
              "      a.click();\n",
              "      div.remove();\n",
              "    }\n",
              "  "
            ]
          },
          "metadata": {}
        },
        {
          "output_type": "display_data",
          "data": {
            "text/plain": [
              "<IPython.core.display.Javascript object>"
            ],
            "application/javascript": [
              "download(\"download_7bdc5be9-7737-4f8a-af15-c547164c06ab\", \"model.pkl\", 8313347)"
            ]
          },
          "metadata": {}
        }
      ]
    },
    {
      "cell_type": "code",
      "source": [
        "from google.colab import files\n",
        "files.download(\"Backup-Web-Series.csv\")"
      ],
      "metadata": {
        "colab": {
          "base_uri": "https://localhost:8080/",
          "height": 17
        },
        "id": "w3zAGkxmIpWJ",
        "outputId": "0bbbc420-b82d-4bb1-eb4b-79bbe2d533ae"
      },
      "execution_count": null,
      "outputs": [
        {
          "output_type": "display_data",
          "data": {
            "text/plain": [
              "<IPython.core.display.Javascript object>"
            ],
            "application/javascript": [
              "\n",
              "    async function download(id, filename, size) {\n",
              "      if (!google.colab.kernel.accessAllowed) {\n",
              "        return;\n",
              "      }\n",
              "      const div = document.createElement('div');\n",
              "      const label = document.createElement('label');\n",
              "      label.textContent = `Downloading \"${filename}\": `;\n",
              "      div.appendChild(label);\n",
              "      const progress = document.createElement('progress');\n",
              "      progress.max = size;\n",
              "      div.appendChild(progress);\n",
              "      document.body.appendChild(div);\n",
              "\n",
              "      const buffers = [];\n",
              "      let downloaded = 0;\n",
              "\n",
              "      const channel = await google.colab.kernel.comms.open(id);\n",
              "      // Send a message to notify the kernel that we're ready.\n",
              "      channel.send({})\n",
              "\n",
              "      for await (const message of channel.messages) {\n",
              "        // Send a message to notify the kernel that we're ready.\n",
              "        channel.send({})\n",
              "        if (message.buffers) {\n",
              "          for (const buffer of message.buffers) {\n",
              "            buffers.push(buffer);\n",
              "            downloaded += buffer.byteLength;\n",
              "            progress.value = downloaded;\n",
              "          }\n",
              "        }\n",
              "      }\n",
              "      const blob = new Blob(buffers, {type: 'application/binary'});\n",
              "      const a = document.createElement('a');\n",
              "      a.href = window.URL.createObjectURL(blob);\n",
              "      a.download = filename;\n",
              "      div.appendChild(a);\n",
              "      a.click();\n",
              "      div.remove();\n",
              "    }\n",
              "  "
            ]
          },
          "metadata": {}
        },
        {
          "output_type": "display_data",
          "data": {
            "text/plain": [
              "<IPython.core.display.Javascript object>"
            ],
            "application/javascript": [
              "download(\"download_61c0a8c1-2e1e-4144-bce5-cc5016f25bca\", \"Backup-Web-Series.csv\", 9073706)"
            ]
          },
          "metadata": {}
        }
      ]
    },
    {
      "cell_type": "code",
      "source": [],
      "metadata": {
        "id": "n5PiB8jiIvxp"
      },
      "execution_count": null,
      "outputs": []
    }
  ]
}